{
 "cells": [
  {
   "cell_type": "markdown",
   "metadata": {},
   "source": [
    "## Part 1. Get metadata"
   ]
  },
  {
   "cell_type": "code",
   "execution_count": 14,
   "metadata": {},
   "outputs": [],
   "source": [
    "import re\n",
    "import sys\n",
    "import pandas as pd\n",
    "import urllib2 \n",
    "from bs4 import BeautifulSoup \n",
    "import json\n",
    "import requests"
   ]
  },
  {
   "cell_type": "code",
   "execution_count": 113,
   "metadata": {},
   "outputs": [],
   "source": [
    "# change key search word\n",
    "# search_word=\"information+privacy\""
   ]
  },
  {
   "cell_type": "code",
   "execution_count": 74,
   "metadata": {},
   "outputs": [
    {
     "name": "stdout",
     "output_type": "stream",
     "text": [
      "online+retailing\n"
     ]
    }
   ],
   "source": [
    "# change key search word\n",
    "search_word=\"online retailing\"\n",
    "words=search_word.split()\n",
    "kwd=str()\n",
    "for w in (0,len(words)-1):\n",
    "    if w==0:\n",
    "        kwd=str(words[w])\n",
    "    else:\n",
    "        kwd=kwd+\"+\"+str(words[w])\n",
    "print kwd"
   ]
  },
  {
   "cell_type": "code",
   "execution_count": 75,
   "metadata": {},
   "outputs": [],
   "source": [
    "# Get keywords for each paper\n",
    "url=\"https://misq.org/catalogsearch/result/index/?q={}&order=misq_year&dir=desc&limit=all\".format(kwd)\n",
    "# kw=pd.DataFrame(columns=['Keywords'])"
   ]
  },
  {
   "cell_type": "code",
   "execution_count": 76,
   "metadata": {},
   "outputs": [
    {
     "data": {
      "text/plain": [
       "'https://misq.org/catalogsearch/result/index/?q=online+retailing&order=misq_year&dir=desc&limit=all'"
      ]
     },
     "execution_count": 76,
     "metadata": {},
     "output_type": "execute_result"
    }
   ],
   "source": [
    "url"
   ]
  },
  {
   "cell_type": "code",
   "execution_count": 34,
   "metadata": {
    "scrolled": true
   },
   "outputs": [],
   "source": [
    "# set up browser name\n",
    "from fake_useragent import UserAgent\n",
    "ua = UserAgent()\n",
    "# ua.chrome"
   ]
  },
  {
   "cell_type": "code",
   "execution_count": 35,
   "metadata": {},
   "outputs": [],
   "source": [
    "header={'User-Agent': str(ua.chrome)}"
   ]
  },
  {
   "cell_type": "code",
   "execution_count": 77,
   "metadata": {},
   "outputs": [],
   "source": [
    "# urlrr= requests.get(url, headers=header)\n",
    "req = urllib2.Request(url, None, header)"
   ]
  },
  {
   "cell_type": "code",
   "execution_count": 78,
   "metadata": {},
   "outputs": [],
   "source": [
    "# req = urllib2.Request(url, None, header)\n",
    "urlo = urllib2.urlopen(req)\n",
    "content = urlo.read()\n",
    "bs= BeautifulSoup(content,\"lxml\")"
   ]
  },
  {
   "cell_type": "code",
   "execution_count": 79,
   "metadata": {},
   "outputs": [],
   "source": [
    "i=0\n",
    "df0=pd.DataFrame(columns=['Author', 'Title','Pub_type', 'Journal', 'Year_publish', 'Web_link','Abstract','Keywords','Doi','Category'])"
   ]
  },
  {
   "cell_type": "code",
   "execution_count": 80,
   "metadata": {},
   "outputs": [],
   "source": [
    "long=len(bs.findAll(\"div\", {\"class\": \"product-shop\"}))"
   ]
  },
  {
   "cell_type": "code",
   "execution_count": 81,
   "metadata": {},
   "outputs": [
    {
     "data": {
      "text/plain": [
       "2"
      ]
     },
     "execution_count": 81,
     "metadata": {},
     "output_type": "execute_result"
    }
   ],
   "source": [
    "long"
   ]
  },
  {
   "cell_type": "code",
   "execution_count": 82,
   "metadata": {},
   "outputs": [],
   "source": [
    "for i in range(0,long):\n",
    "    ## find link to paper abstract - ??instead of 0 should be i in cycle\n",
    "    gg=bs.findAll(\"div\", {\"class\": \"product-shop\"})[i]('a')\n",
    "    # web_link=gg[0]['href']\n",
    "    df0['Web_link'].loc[i]=gg[0]['href']\n",
    "    # title=gg[0].text\n",
    "    df0['Title'].loc[i]=gg[0].text\n",
    "    # authors=bs.findAll(\"p\", {\"class\": \"author\"})[0].text\n",
    "    df0['Author'].loc[i]=bs.findAll(\"p\", {\"class\": \"author\"})[i].text\n",
    "    # get abstract\n",
    "    reqq = urllib2.Request(df0['Web_link'].loc[i], None, header)\n",
    "    url2 = urllib2.urlopen(reqq, timeout=10)\n",
    "    content2 = url2.read()\n",
    "    bs2= BeautifulSoup(content2,\"lxml\")\n",
    "    # abstract=bs2.findAll(\"div\", {\"class\": \"product-specs\"})[0].text\n",
    "    df0['Abstract'].loc[i]=bs2.findAll(\"div\", {\"class\": \"product-specs\"})[0].text.strip('\\n')\n",
    "    kwd=bs2.findAll(\"div\", {\"class\": \"collateral-box\"})[2]\n",
    "    table=kwd.findAll('table')\n",
    "    # keywords, year, doi from table\n",
    "    kwd=bs2.findAll(\"div\", {\"class\": \"collateral-box\"})[2]\n",
    "    table=kwd.findAll('table')[0]\n",
    "    df=pd.read_html(str(table))[0]\n",
    "    # year=df.iat[1,1]\n",
    "    df0['Year_publish'].loc[i]=df.iat[1,1]\n",
    "    # kwds=df[1][df[0]==\"Keywords\"]\n",
    "    # kwds=df.iat[4,1]\n",
    "    df0['Keywords'].loc[i]=df.iat[4,1]\n",
    "    # doi=df[1][df[0]==\"Page Numbers\"]\n",
    "    doi=df.iat[5,1]\n",
    "    # doi_link=doi[doi.find(':')+2:]\n",
    "    df0['Doi'].loc[i]=doi[doi.find(':')+2:]\n"
   ]
  },
  {
   "cell_type": "code",
   "execution_count": 83,
   "metadata": {},
   "outputs": [],
   "source": [
    "df0 = pd.concat([df0['Author'],  df0['Title'],df0['Pub_type'],df0['Journal'],df0['Year_publish'],df0['Web_link'],df0['Abstract'],df0['Keywords'],df0['Doi'],df0['Category']], axis=1)"
   ]
  },
  {
   "cell_type": "code",
   "execution_count": 84,
   "metadata": {},
   "outputs": [],
   "source": [
    "df0['Pub_type']='Journal Article'\n",
    "df0['Journal']='MISQ'\n",
    "df0['Category']=search_word"
   ]
  },
  {
   "cell_type": "code",
   "execution_count": 85,
   "metadata": {},
   "outputs": [],
   "source": [
    "df0['Author']=df0['Author'].str.encode('ascii','ignore')\n",
    "df0['Title']=df0['Title'].str.encode('ascii','ignore')\n",
    "df0['Web_link']=df0['Web_link'].str.encode('ascii','ignore')\n",
    "df0['Abstract']=df0['Abstract'].str.encode('ascii','ignore')\n",
    "df0['Keywords']=df0['Keywords'].str.encode('ascii','ignore')\n",
    "# df0['Title']=df0['Title'].str.encode('ascii','ignore')"
   ]
  },
  {
   "cell_type": "code",
   "execution_count": 93,
   "metadata": {
    "scrolled": false
   },
   "outputs": [
    {
     "data": {
      "text/html": [
       "<div>\n",
       "<style scoped>\n",
       "    .dataframe tbody tr th:only-of-type {\n",
       "        vertical-align: middle;\n",
       "    }\n",
       "\n",
       "    .dataframe tbody tr th {\n",
       "        vertical-align: top;\n",
       "    }\n",
       "\n",
       "    .dataframe thead th {\n",
       "        text-align: right;\n",
       "    }\n",
       "</style>\n",
       "<table border=\"1\" class=\"dataframe\">\n",
       "  <thead>\n",
       "    <tr style=\"text-align: right;\">\n",
       "      <th></th>\n",
       "      <th>Author</th>\n",
       "      <th>Title</th>\n",
       "      <th>Pub_type</th>\n",
       "      <th>Journal</th>\n",
       "      <th>Year_publish</th>\n",
       "      <th>Web_link</th>\n",
       "      <th>Abstract</th>\n",
       "      <th>Keywords</th>\n",
       "      <th>Doi</th>\n",
       "      <th>Category</th>\n",
       "    </tr>\n",
       "  </thead>\n",
       "  <tbody>\n",
       "    <tr>\n",
       "      <th>0</th>\n",
       "      <td>Author: Young Kwark, Jianqing Chen, and Sriniv...</td>\n",
       "      <td>Platform or Wholesale?  A Strategic Tool for O...</td>\n",
       "      <td>Journal Article</td>\n",
       "      <td>MISQ</td>\n",
       "      <td>2017</td>\n",
       "      <td>https://misq.org/platform-or-wholesale-a-strat...</td>\n",
       "      <td>Online retailing is dominated by a channel str...</td>\n",
       "      <td>Third-party information, pricing scheme, onlin...</td>\n",
       "      <td>10.25300/MISQ/2017/41.3.05</td>\n",
       "      <td>online retailing</td>\n",
       "    </tr>\n",
       "  </tbody>\n",
       "</table>\n",
       "</div>"
      ],
      "text/plain": [
       "                                              Author  \\\n",
       "0  Author: Young Kwark, Jianqing Chen, and Sriniv...   \n",
       "\n",
       "                                               Title         Pub_type Journal  \\\n",
       "0  Platform or Wholesale?  A Strategic Tool for O...  Journal Article    MISQ   \n",
       "\n",
       "  Year_publish                                           Web_link  \\\n",
       "0         2017  https://misq.org/platform-or-wholesale-a-strat...   \n",
       "\n",
       "                                            Abstract  \\\n",
       "0  Online retailing is dominated by a channel str...   \n",
       "\n",
       "                                            Keywords  \\\n",
       "0  Third-party information, pricing scheme, onlin...   \n",
       "\n",
       "                          Doi          Category  \n",
       "0  10.25300/MISQ/2017/41.3.05  online retailing  "
      ]
     },
     "execution_count": 93,
     "metadata": {},
     "output_type": "execute_result"
    }
   ],
   "source": [
    "df0.head()"
   ]
  },
  {
   "cell_type": "code",
   "execution_count": 87,
   "metadata": {},
   "outputs": [
    {
     "data": {
      "text/plain": [
       "1"
      ]
     },
     "execution_count": 87,
     "metadata": {},
     "output_type": "execute_result"
    }
   ],
   "source": [
    "df0=df0[df0[\"Year_publish\"].astype(int)>=2012]\n",
    "len(df0)"
   ]
  },
  {
   "cell_type": "code",
   "execution_count": 88,
   "metadata": {},
   "outputs": [],
   "source": [
    "# export to csv file\n",
    "df0.to_csv('List_MISQ_'+search_word+'.csv')"
   ]
  }
 ],
 "metadata": {
  "kernelspec": {
   "display_name": "Python 2",
   "language": "python",
   "name": "python2"
  },
  "language_info": {
   "codemirror_mode": {
    "name": "ipython",
    "version": 2
   },
   "file_extension": ".py",
   "mimetype": "text/x-python",
   "name": "python",
   "nbconvert_exporter": "python",
   "pygments_lexer": "ipython2",
   "version": "2.7.14"
  }
 },
 "nbformat": 4,
 "nbformat_minor": 2
}
