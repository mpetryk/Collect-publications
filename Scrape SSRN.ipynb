{
 "cells": [
  {
   "cell_type": "code",
   "execution_count": 202,
   "metadata": {},
   "outputs": [],
   "source": [
    "import re\n",
    "import sys\n",
    "import pandas as pd\n",
    "import urllib2 \n",
    "from bs4 import BeautifulSoup \n",
    "import json, requests\n",
    "from fake_useragent import UserAgent"
   ]
  },
  {
   "cell_type": "code",
   "execution_count": 203,
   "metadata": {},
   "outputs": [
    {
     "name": "stdout",
     "output_type": "stream",
     "text": [
      "{'User-Agent': 'Mozilla/5.0 (Windows NT 6.3; Win64; x64) AppleWebKit/537.36 (KHTML, like Gecko) Chrome/37.0.2049.0 Safari/537.36'}\n"
     ]
    }
   ],
   "source": [
    "ua = UserAgent()\n",
    "# print(ua.chrome)\n",
    "header = {'User-Agent':str(ua.chrome)}\n",
    "print(header)"
   ]
  },
  {
   "cell_type": "code",
   "execution_count": null,
   "metadata": {
    "collapsed": true
   },
   "outputs": [],
   "source": [
    "# url='https://papers.ssrn.com/sol3/results.cfm'"
   ]
  },
  {
   "cell_type": "code",
   "execution_count": null,
   "metadata": {
    "collapsed": true
   },
   "outputs": [],
   "source": [
    "# req = urllib2.Request(url, None, header)\n",
    "# urlo = urllib2.urlopen(req)\n",
    "# content = urlo.read()\n",
    "# bs= BeautifulSoup(content,\"lxml\")"
   ]
  },
  {
   "cell_type": "code",
   "execution_count": null,
   "metadata": {
    "collapsed": true
   },
   "outputs": [],
   "source": [
    "# # bs.findAll(\"a\", {\"class\": \"title optClickTitle\"})\n",
    "# bs.findAll({\"class\": \"title optClickTitle\"})\n",
    "# # bs.findAll(\"a\")"
   ]
  },
  {
   "cell_type": "markdown",
   "metadata": {},
   "source": [
    "## Effort 2. Via Selenium"
   ]
  },
  {
   "cell_type": "code",
   "execution_count": 204,
   "metadata": {},
   "outputs": [],
   "source": [
    "import os\n",
    "from selenium import webdriver\n",
    "from selenium.webdriver.common.keys import Keys\n",
    "from selenium.webdriver.support.ui import WebDriverWait\n",
    "from time import sleep\n",
    "import re\n",
    "\n",
    "# from selenium.webdriver.firefox.options import Options\n",
    "# from selenium.webdriver.support import expected_conditions\n",
    "# from selenium.webdriver.common.by import By"
   ]
  },
  {
   "cell_type": "code",
   "execution_count": 337,
   "metadata": {},
   "outputs": [
    {
     "name": "stdout",
     "output_type": "stream",
     "text": [
      "0\n",
      "https://papers.ssrn.com/sol3/papers.cfm?abstract_id=3192395\n",
      "1\n",
      "https://papers.ssrn.com/sol3/papers.cfm?abstract_id=3198435\n",
      "2\n",
      "https://papers.ssrn.com/sol3/papers.cfm?abstract_id=3181264\n",
      "3\n",
      "https://papers.ssrn.com/sol3/papers.cfm?abstract_id=3177396\n",
      "4\n",
      "https://papers.ssrn.com/sol3/papers.cfm?abstract_id=3174463\n",
      "5\n",
      "https://papers.ssrn.com/sol3/papers.cfm?abstract_id=3166789\n",
      "6\n",
      "https://papers.ssrn.com/sol3/papers.cfm?abstract_id=3170521\n",
      "7\n",
      "https://papers.ssrn.com/sol3/papers.cfm?abstract_id=3158056\n",
      "8\n",
      "https://papers.ssrn.com/sol3/papers.cfm?abstract_id=3167015\n",
      "9\n",
      "https://papers.ssrn.com/sol3/papers.cfm?abstract_id=3142461\n",
      "10\n",
      "https://papers.ssrn.com/sol3/papers.cfm?abstract_id=3141001\n",
      "11\n",
      "https://papers.ssrn.com/sol3/papers.cfm?abstract_id=3114167\n",
      "12\n",
      "https://papers.ssrn.com/sol3/papers.cfm?abstract_id=3108765\n",
      "13\n",
      "https://papers.ssrn.com/sol3/papers.cfm?abstract_id=3103751\n",
      "14\n",
      "https://papers.ssrn.com/sol3/papers.cfm?abstract_id=3101976\n",
      "15\n",
      "https://papers.ssrn.com/sol3/papers.cfm?abstract_id=3097071\n",
      "16\n",
      "https://papers.ssrn.com/sol3/papers.cfm?abstract_id=3090391\n",
      "17\n",
      "https://papers.ssrn.com/sol3/papers.cfm?abstract_id=3089147\n",
      "18\n",
      "https://papers.ssrn.com/sol3/papers.cfm?abstract_id=3084194\n",
      "19\n",
      "https://papers.ssrn.com/sol3/papers.cfm?abstract_id=3074985\n",
      "20\n",
      "https://papers.ssrn.com/sol3/papers.cfm?abstract_id=3078067\n",
      "21\n",
      "https://papers.ssrn.com/sol3/papers.cfm?abstract_id=3074144\n",
      "22\n",
      "https://papers.ssrn.com/sol3/papers.cfm?abstract_id=3059445\n",
      "23\n",
      "https://papers.ssrn.com/sol3/papers.cfm?abstract_id=3055321\n",
      "24\n",
      "https://papers.ssrn.com/sol3/papers.cfm?abstract_id=3033776\n",
      "25\n",
      "https://papers.ssrn.com/sol3/papers.cfm?abstract_id=3029220\n",
      "26\n",
      "https://papers.ssrn.com/sol3/papers.cfm?abstract_id=3020558\n",
      "27\n",
      "https://papers.ssrn.com/sol3/papers.cfm?abstract_id=2983839\n",
      "28\n",
      "https://papers.ssrn.com/sol3/papers.cfm?abstract_id=3002307\n",
      "29\n",
      "https://papers.ssrn.com/sol3/papers.cfm?abstract_id=2994026\n",
      "30\n",
      "https://papers.ssrn.com/sol3/papers.cfm?abstract_id=2983199\n",
      "31\n",
      "https://papers.ssrn.com/sol3/papers.cfm?abstract_id=2977779\n",
      "32\n",
      "https://papers.ssrn.com/sol3/papers.cfm?abstract_id=2976116\n",
      "33\n",
      "https://papers.ssrn.com/sol3/papers.cfm?abstract_id=2962990\n",
      "34\n",
      "https://papers.ssrn.com/sol3/papers.cfm?abstract_id=2953593\n",
      "35\n",
      "https://papers.ssrn.com/sol3/papers.cfm?abstract_id=2952470\n",
      "36\n",
      "https://papers.ssrn.com/sol3/papers.cfm?abstract_id=2952493\n",
      "37\n",
      "https://papers.ssrn.com/sol3/papers.cfm?abstract_id=2945875\n",
      "38\n",
      "https://papers.ssrn.com/sol3/papers.cfm?abstract_id=2941668\n",
      "39\n",
      "https://papers.ssrn.com/sol3/papers.cfm?abstract_id=2857973\n",
      "40\n",
      "https://papers.ssrn.com/sol3/papers.cfm?abstract_id=2884190\n",
      "41\n",
      "https://papers.ssrn.com/sol3/papers.cfm?abstract_id=2887396\n",
      "42\n",
      "https://papers.ssrn.com/sol3/papers.cfm?abstract_id=2876603\n",
      "43\n",
      "https://papers.ssrn.com/sol3/papers.cfm?abstract_id=2853894\n",
      "44\n",
      "https://papers.ssrn.com/sol3/papers.cfm?abstract_id=2857900\n",
      "45\n",
      "https://papers.ssrn.com/sol3/papers.cfm?abstract_id=2857108\n",
      "46\n",
      "https://papers.ssrn.com/sol3/papers.cfm?abstract_id=2843891\n",
      "47\n",
      "https://papers.ssrn.com/sol3/papers.cfm?abstract_id=2840713\n",
      "48\n",
      "https://papers.ssrn.com/sol3/papers.cfm?abstract_id=2839102\n",
      "49\n",
      "https://papers.ssrn.com/sol3/papers.cfm?abstract_id=2835434\n"
     ]
    }
   ],
   "source": [
    "# Full code with Selenium   ; didn't collect all papers for some reason\n",
    "\n",
    "searchWord='mobile commerce'\n",
    "index=0\n",
    "j=0\n",
    "df=pd.DataFrame(columns=['Author', 'Title','Pub_type', 'Journal', 'Year_publish', 'Doi_link','Abstract','Keywords','Url_link'])\n",
    "\n",
    "# Selenium \n",
    "options = webdriver.ChromeOptions()\n",
    "download_folder = \"C:\\Users\\mariia.petryk\"    \n",
    "profile={}\n",
    "options.add_experimental_option(\"prefs\", profile)\n",
    "# set driver\n",
    "driver = webdriver.Chrome('C:\\Users\\mariia.petryk\\Downloads\\chromedriver_win32\\chromedriver.exe', chrome_options=options)\n",
    "#put here the adress of your page\n",
    "link='https://papers.ssrn.com/sol3/DisplayAbstractSearch.cfm'\n",
    "driver.get(link)\n",
    "sleep(3)\n",
    "# Select element by id\n",
    "driver.find_element_by_id(\"advanced_search\").send_keys(searchWord)\n",
    "sleep(3)\n",
    "# simulate hitting button\n",
    "driver.find_element_by_xpath('//*[@id=\"maincontent\"]/div/div[1]/div/form/div[1]/button').click()\n",
    "sleep(3)\n",
    "# Sort by date descending\n",
    "driver.find_element_by_xpath('//*[@id=\"sort-by\"]/option[6]').click()\n",
    "sleep(3)\n",
    "# download individual article page\n",
    "s=driver.find_element_by_class_name(\"tbody\").find_elements_by_tag_name('div')\n",
    "# s=driver.find_elements_by_class_name('title optClickTitle')\n",
    "sleep(3)\n",
    "# s=driver.find_element_by_class_name(\"tbody\").find_elements_by_xpath(\"//*[@id]\")\n",
    "#Search for individual article attirbutes \n",
    "for index in range(0,len(s)):\n",
    "#     try:\n",
    "        ss=s[index]\n",
    "        sid =ss.get_attribute(\"id\")\n",
    "#         sleep(3)\n",
    "        page_id=sid.replace(\"div_\", \"\")\n",
    "#         print page_id\n",
    "        if re.match(\"^[A-Za-z]*$\", page_id):\n",
    "            pass\n",
    "        else:\n",
    "            if len(page_id)>0:\n",
    "#                 print index\n",
    "                print j\n",
    "                ll=\"https://papers.ssrn.com/sol3/papers.cfm?abstract_id=\"+page_id\n",
    "#                 ll=table[index].get(\"href\")\n",
    "                df['Url_link'].loc[index] =ll\n",
    "                print ll\n",
    "                options = webdriver.ChromeOptions()\n",
    "                driver = webdriver.Chrome('C:\\Users\\mariia.petryk\\Downloads\\chromedriver_win32\\chromedriver.exe', chrome_options=options)\n",
    "                driver.get(ll)\n",
    "#                 sleep(3)\n",
    "                try:\n",
    "                    title=driver.find_element_by_xpath('//*[@id=\"maincontent\"]/div[2]/div[1]/div[1]/h1').get_attribute('innerText')\n",
    "                    df['Title'].loc[index] =title\n",
    "                except:\n",
    "                    df['Title'].loc[index] =\"\"\n",
    "                try:\n",
    "                    year=driver.find_element_by_xpath('//*[@id=\"maincontent\"]/div[2]/div[1]/div[1]/p[2]').get_attribute(\"innerText\")\n",
    "                    year=year[-4:]\n",
    "                    df['Year_publish'].loc[index] =year\n",
    "                except:\n",
    "                    df['Year_publish'].loc[index] =\"\"\n",
    "                try:\n",
    "                    authors=driver.find_element_by_xpath('//*[@id=\"maincontent\"]/div[2]/div[1]/div[1]/div[2]/h2[1]/a').get_attribute(\"innerText\")\n",
    "                    authors=authors.replace('\\n\\n','\\n').replace('\\n',',')\n",
    "                    df['Author'].loc[index] =authors\n",
    "                except:\n",
    "                    df['Author'].loc[index] =\"\"\n",
    "                try:\n",
    "                    abstract=driver.find_element_by_xpath('//*[@id=\"maincontent\"]/div[2]/div[1]/div[1]/div[3]/p[1]').get_attribute(\"innerText\")\n",
    "                    df['Abstract'].loc[index] =abstract\n",
    "                except:\n",
    "                    df['Abstract'].loc[index] =\"\"\n",
    "                try:\n",
    "                    kwd=driver.find_element_by_xpath('//*[@id=\"maincontent\"]/div[2]/div[1]/div[1]/p[3]').get_attribute(\"innerText\")\n",
    "                    df['Keywords'].loc[index] =kwd\n",
    "                except:\n",
    "                    df['Keywords'].loc[index] =\"\"\n",
    "                try:\n",
    "                    doi=driver.find_element_by_xpath('//*[@id=\"selectable\"]/a[2]').get_attribute(\"innerText\")\n",
    "                    df['Doi_link'].loc[index] =doi\n",
    "                except:\n",
    "                    df['Doi_link'].loc[index] =\"\"\n",
    "                try:\n",
    "                    journal=driver.find_element_by_xpath('//*[@id=\"maincontent\"]/div[2]/div[1]/div[1]/div[1]/p').get_attribute('innerText')\n",
    "                    df['Journal'].loc[index] =journal\n",
    "                except:\n",
    "                    df['Journal'].loc[index] =\"\"\n",
    "                df['Pub_type'].loc[index] =\"\"\n",
    "                driver.close()\n",
    "                sleep(5)\n",
    "                j=j+1\n",
    "            else:\n",
    "                driver.close()\n",
    "                sleep(3)\n",
    "#     except:\n",
    "#         driver.close()\n",
    "#         sleep(3)\n",
    "    "
   ]
  },
  {
   "cell_type": "code",
   "execution_count": 174,
   "metadata": {
    "collapsed": true
   },
   "outputs": [
    {
     "ename": "NoSuchElementException",
     "evalue": "Message: no such element: Unable to locate element: {\"method\":\"partial link text\",\"selector\":\"Keywords\"}\n  (Session info: chrome=67.0.3396.99)\n  (Driver info: chromedriver=2.40.565386 (45a059dc425e08165f9a10324bd1380cc13ca363),platform=Mac OS X 10.13.1 x86_64)\n",
     "output_type": "error",
     "traceback": [
      "\u001b[0;31m---------------------------------------------------------------------------\u001b[0m",
      "\u001b[0;31mNoSuchElementException\u001b[0m                    Traceback (most recent call last)",
      "\u001b[0;32m<ipython-input-174-173d99d3da1c>\u001b[0m in \u001b[0;36m<module>\u001b[0;34m()\u001b[0m\n\u001b[1;32m      2\u001b[0m \u001b[0mdriver\u001b[0m \u001b[0;34m=\u001b[0m \u001b[0mwebdriver\u001b[0m\u001b[0;34m.\u001b[0m\u001b[0mChrome\u001b[0m\u001b[0;34m(\u001b[0m\u001b[0;34m'/Users/mariiapetryk/Downloads/chromedriver'\u001b[0m\u001b[0;34m,\u001b[0m \u001b[0mchrome_options\u001b[0m\u001b[0;34m=\u001b[0m\u001b[0moptions\u001b[0m\u001b[0;34m)\u001b[0m\u001b[0;34m\u001b[0m\u001b[0m\n\u001b[1;32m      3\u001b[0m \u001b[0mdriver\u001b[0m\u001b[0;34m.\u001b[0m\u001b[0mget\u001b[0m\u001b[0;34m(\u001b[0m\u001b[0;34m'https://papers.ssrn.com/sol3/papers.cfm?abstract_id=2179234'\u001b[0m\u001b[0;34m)\u001b[0m\u001b[0;34m\u001b[0m\u001b[0m\n\u001b[0;32m----> 4\u001b[0;31m \u001b[0mkwd\u001b[0m\u001b[0;34m=\u001b[0m\u001b[0mdriver\u001b[0m\u001b[0;34m.\u001b[0m\u001b[0mfind_element_by_partial_link_text\u001b[0m\u001b[0;34m(\u001b[0m\u001b[0;34m'Keywords'\u001b[0m\u001b[0;34m)\u001b[0m\u001b[0;34m\u001b[0m\u001b[0m\n\u001b[0m",
      "\u001b[0;32m/Users/mariiapetryk/anaconda2/lib/python2.7/site-packages/selenium/webdriver/remote/webdriver.pyc\u001b[0m in \u001b[0;36mfind_element_by_partial_link_text\u001b[0;34m(self, link_text)\u001b[0m\n\u001b[1;32m    453\u001b[0m             \u001b[0melement\u001b[0m \u001b[0;34m=\u001b[0m \u001b[0mdriver\u001b[0m\u001b[0;34m.\u001b[0m\u001b[0mfind_element_by_partial_link_text\u001b[0m\u001b[0;34m(\u001b[0m\u001b[0;34m'Sign'\u001b[0m\u001b[0;34m)\u001b[0m\u001b[0;34m\u001b[0m\u001b[0m\n\u001b[1;32m    454\u001b[0m         \"\"\"\n\u001b[0;32m--> 455\u001b[0;31m         \u001b[0;32mreturn\u001b[0m \u001b[0mself\u001b[0m\u001b[0;34m.\u001b[0m\u001b[0mfind_element\u001b[0m\u001b[0;34m(\u001b[0m\u001b[0mby\u001b[0m\u001b[0;34m=\u001b[0m\u001b[0mBy\u001b[0m\u001b[0;34m.\u001b[0m\u001b[0mPARTIAL_LINK_TEXT\u001b[0m\u001b[0;34m,\u001b[0m \u001b[0mvalue\u001b[0m\u001b[0;34m=\u001b[0m\u001b[0mlink_text\u001b[0m\u001b[0;34m)\u001b[0m\u001b[0;34m\u001b[0m\u001b[0m\n\u001b[0m\u001b[1;32m    456\u001b[0m \u001b[0;34m\u001b[0m\u001b[0m\n\u001b[1;32m    457\u001b[0m     \u001b[0;32mdef\u001b[0m \u001b[0mfind_elements_by_partial_link_text\u001b[0m\u001b[0;34m(\u001b[0m\u001b[0mself\u001b[0m\u001b[0;34m,\u001b[0m \u001b[0mlink_text\u001b[0m\u001b[0;34m)\u001b[0m\u001b[0;34m:\u001b[0m\u001b[0;34m\u001b[0m\u001b[0m\n",
      "\u001b[0;32m/Users/mariiapetryk/anaconda2/lib/python2.7/site-packages/selenium/webdriver/remote/webdriver.pyc\u001b[0m in \u001b[0;36mfind_element\u001b[0;34m(self, by, value)\u001b[0m\n\u001b[1;32m    955\u001b[0m         return self.execute(Command.FIND_ELEMENT, {\n\u001b[1;32m    956\u001b[0m             \u001b[0;34m'using'\u001b[0m\u001b[0;34m:\u001b[0m \u001b[0mby\u001b[0m\u001b[0;34m,\u001b[0m\u001b[0;34m\u001b[0m\u001b[0m\n\u001b[0;32m--> 957\u001b[0;31m             'value': value})['value']\n\u001b[0m\u001b[1;32m    958\u001b[0m \u001b[0;34m\u001b[0m\u001b[0m\n\u001b[1;32m    959\u001b[0m     \u001b[0;32mdef\u001b[0m \u001b[0mfind_elements\u001b[0m\u001b[0;34m(\u001b[0m\u001b[0mself\u001b[0m\u001b[0;34m,\u001b[0m \u001b[0mby\u001b[0m\u001b[0;34m=\u001b[0m\u001b[0mBy\u001b[0m\u001b[0;34m.\u001b[0m\u001b[0mID\u001b[0m\u001b[0;34m,\u001b[0m \u001b[0mvalue\u001b[0m\u001b[0;34m=\u001b[0m\u001b[0mNone\u001b[0m\u001b[0;34m)\u001b[0m\u001b[0;34m:\u001b[0m\u001b[0;34m\u001b[0m\u001b[0m\n",
      "\u001b[0;32m/Users/mariiapetryk/anaconda2/lib/python2.7/site-packages/selenium/webdriver/remote/webdriver.pyc\u001b[0m in \u001b[0;36mexecute\u001b[0;34m(self, driver_command, params)\u001b[0m\n\u001b[1;32m    312\u001b[0m         \u001b[0mresponse\u001b[0m \u001b[0;34m=\u001b[0m \u001b[0mself\u001b[0m\u001b[0;34m.\u001b[0m\u001b[0mcommand_executor\u001b[0m\u001b[0;34m.\u001b[0m\u001b[0mexecute\u001b[0m\u001b[0;34m(\u001b[0m\u001b[0mdriver_command\u001b[0m\u001b[0;34m,\u001b[0m \u001b[0mparams\u001b[0m\u001b[0;34m)\u001b[0m\u001b[0;34m\u001b[0m\u001b[0m\n\u001b[1;32m    313\u001b[0m         \u001b[0;32mif\u001b[0m \u001b[0mresponse\u001b[0m\u001b[0;34m:\u001b[0m\u001b[0;34m\u001b[0m\u001b[0m\n\u001b[0;32m--> 314\u001b[0;31m             \u001b[0mself\u001b[0m\u001b[0;34m.\u001b[0m\u001b[0merror_handler\u001b[0m\u001b[0;34m.\u001b[0m\u001b[0mcheck_response\u001b[0m\u001b[0;34m(\u001b[0m\u001b[0mresponse\u001b[0m\u001b[0;34m)\u001b[0m\u001b[0;34m\u001b[0m\u001b[0m\n\u001b[0m\u001b[1;32m    315\u001b[0m             response['value'] = self._unwrap_value(\n\u001b[1;32m    316\u001b[0m                 response.get('value', None))\n",
      "\u001b[0;32m/Users/mariiapetryk/anaconda2/lib/python2.7/site-packages/selenium/webdriver/remote/errorhandler.pyc\u001b[0m in \u001b[0;36mcheck_response\u001b[0;34m(self, response)\u001b[0m\n\u001b[1;32m    240\u001b[0m                 \u001b[0malert_text\u001b[0m \u001b[0;34m=\u001b[0m \u001b[0mvalue\u001b[0m\u001b[0;34m[\u001b[0m\u001b[0;34m'alert'\u001b[0m\u001b[0;34m]\u001b[0m\u001b[0;34m.\u001b[0m\u001b[0mget\u001b[0m\u001b[0;34m(\u001b[0m\u001b[0;34m'text'\u001b[0m\u001b[0;34m)\u001b[0m\u001b[0;34m\u001b[0m\u001b[0m\n\u001b[1;32m    241\u001b[0m             \u001b[0;32mraise\u001b[0m \u001b[0mexception_class\u001b[0m\u001b[0;34m(\u001b[0m\u001b[0mmessage\u001b[0m\u001b[0;34m,\u001b[0m \u001b[0mscreen\u001b[0m\u001b[0;34m,\u001b[0m \u001b[0mstacktrace\u001b[0m\u001b[0;34m,\u001b[0m \u001b[0malert_text\u001b[0m\u001b[0;34m)\u001b[0m\u001b[0;34m\u001b[0m\u001b[0m\n\u001b[0;32m--> 242\u001b[0;31m         \u001b[0;32mraise\u001b[0m \u001b[0mexception_class\u001b[0m\u001b[0;34m(\u001b[0m\u001b[0mmessage\u001b[0m\u001b[0;34m,\u001b[0m \u001b[0mscreen\u001b[0m\u001b[0;34m,\u001b[0m \u001b[0mstacktrace\u001b[0m\u001b[0;34m)\u001b[0m\u001b[0;34m\u001b[0m\u001b[0m\n\u001b[0m\u001b[1;32m    243\u001b[0m \u001b[0;34m\u001b[0m\u001b[0m\n\u001b[1;32m    244\u001b[0m     \u001b[0;32mdef\u001b[0m \u001b[0m_value_or_default\u001b[0m\u001b[0;34m(\u001b[0m\u001b[0mself\u001b[0m\u001b[0;34m,\u001b[0m \u001b[0mobj\u001b[0m\u001b[0;34m,\u001b[0m \u001b[0mkey\u001b[0m\u001b[0;34m,\u001b[0m \u001b[0mdefault\u001b[0m\u001b[0;34m)\u001b[0m\u001b[0;34m:\u001b[0m\u001b[0;34m\u001b[0m\u001b[0m\n",
      "\u001b[0;31mNoSuchElementException\u001b[0m: Message: no such element: Unable to locate element: {\"method\":\"partial link text\",\"selector\":\"Keywords\"}\n  (Session info: chrome=67.0.3396.99)\n  (Driver info: chromedriver=2.40.565386 (45a059dc425e08165f9a10324bd1380cc13ca363),platform=Mac OS X 10.13.1 x86_64)\n"
     ]
    }
   ],
   "source": [
    "# options = webdriver.ChromeOptions()\n",
    "# driver = webdriver.Chrome('/Users/mariiapetryk/Downloads/chromedriver', chrome_options=options)\n",
    "# driver.get('https://papers.ssrn.com/sol3/papers.cfm?abstract_id=2179234')\n",
    "# kwd=driver.find_element_by_partial_link_text('Keywords')"
   ]
  },
  {
   "cell_type": "code",
   "execution_count": 338,
   "metadata": {},
   "outputs": [],
   "source": [
    "df = pd.concat([df['Author'],df['Title'],df['Pub_type'],df['Journal'],df['Year_publish'],df['Doi_link'],df['Abstract'], df['Keywords'],df['Url_link']], axis=1)"
   ]
  },
  {
   "cell_type": "code",
   "execution_count": 339,
   "metadata": {},
   "outputs": [
    {
     "data": {
      "text/plain": [
       "50"
      ]
     },
     "execution_count": 339,
     "metadata": {},
     "output_type": "execute_result"
    }
   ],
   "source": [
    "len(df)"
   ]
  },
  {
   "cell_type": "code",
   "execution_count": 340,
   "metadata": {},
   "outputs": [],
   "source": [
    "df=df[df[\"Title\"]>\"\"]\n",
    "df=df.reset_index()\n",
    "df=df.drop(['index'],axis=1)\n",
    "# df=df.drop(['level_0'],axis=1)"
   ]
  },
  {
   "cell_type": "code",
   "execution_count": 317,
   "metadata": {
    "scrolled": false
   },
   "outputs": [
    {
     "data": {
      "text/html": [
       "<div>\n",
       "<style scoped>\n",
       "    .dataframe tbody tr th:only-of-type {\n",
       "        vertical-align: middle;\n",
       "    }\n",
       "\n",
       "    .dataframe tbody tr th {\n",
       "        vertical-align: top;\n",
       "    }\n",
       "\n",
       "    .dataframe thead th {\n",
       "        text-align: right;\n",
       "    }\n",
       "</style>\n",
       "<table border=\"1\" class=\"dataframe\">\n",
       "  <thead>\n",
       "    <tr style=\"text-align: right;\">\n",
       "      <th></th>\n",
       "      <th>Author</th>\n",
       "      <th>Title</th>\n",
       "      <th>Pub_type</th>\n",
       "      <th>Journal</th>\n",
       "      <th>Year_publish</th>\n",
       "      <th>Doi_link</th>\n",
       "      <th>Abstract</th>\n",
       "      <th>Keywords</th>\n",
       "      <th>Url_link</th>\n",
       "    </tr>\n",
       "  </thead>\n",
       "  <tbody>\n",
       "    <tr>\n",
       "      <th>0</th>\n",
       "      <td>Silviu Ilie Saplacan</td>\n",
       "      <td>The Evolution of Concepts and Procedures conce...</td>\n",
       "      <td></td>\n",
       "      <td>Social Economic Debates Volume 6, Issue 1, 2017</td>\n",
       "      <td>aper</td>\n",
       "      <td></td>\n",
       "      <td></td>\n",
       "      <td>Date Written: 2017</td>\n",
       "      <td>https://papers.ssrn.com/sol3/papers.cfm?abstra...</td>\n",
       "    </tr>\n",
       "    <tr>\n",
       "      <th>1</th>\n",
       "      <td>Silviu Ilie Saplacan</td>\n",
       "      <td>The Evolution of Concepts and Procedures Conce...</td>\n",
       "      <td></td>\n",
       "      <td>Social Economic Debates, Volume 6, Issue 1, 2017</td>\n",
       "      <td>aper</td>\n",
       "      <td></td>\n",
       "      <td></td>\n",
       "      <td>Date Written: June 26, 2018</td>\n",
       "      <td>https://papers.ssrn.com/sol3/papers.cfm?abstra...</td>\n",
       "    </tr>\n",
       "    <tr>\n",
       "      <th>2</th>\n",
       "      <td>Anne Fleming</td>\n",
       "      <td>Two Centuries of Policing Swindles and Humbugs</td>\n",
       "      <td></td>\n",
       "      <td>Reviews in American History, Vol. 46, No. 2, P...</td>\n",
       "      <td>2018</td>\n",
       "      <td></td>\n",
       "      <td>Since the 1860s, when P.T. Barnum, the self-de...</td>\n",
       "      <td>Keywords: Legal History, Business History, Ant...</td>\n",
       "      <td>https://papers.ssrn.com/sol3/papers.cfm?abstra...</td>\n",
       "    </tr>\n",
       "    <tr>\n",
       "      <th>3</th>\n",
       "      <td>Michael Mattioli</td>\n",
       "      <td>Autonomy in the Age of Autonomous Vehicles</td>\n",
       "      <td></td>\n",
       "      <td>Boston University Journal of Science and Techn...</td>\n",
       "      <td>2018</td>\n",
       "      <td></td>\n",
       "      <td>This essay describes intertwined policy challe...</td>\n",
       "      <td>Keywords: Autonomous Vehicles, Self-Driving Ca...</td>\n",
       "      <td>https://papers.ssrn.com/sol3/papers.cfm?abstra...</td>\n",
       "    </tr>\n",
       "    <tr>\n",
       "      <th>4</th>\n",
       "      <td>Daniel Mihail Sandru</td>\n",
       "      <td>Interpretation and Application of European Uni...</td>\n",
       "      <td></td>\n",
       "      <td>Law Review, Volume VIII, Issue 1, January-June...</td>\n",
       "      <td>2018</td>\n",
       "      <td></td>\n",
       "      <td>The interpretation and application of the Euro...</td>\n",
       "      <td>Keywords: International Commercial Arbitration...</td>\n",
       "      <td>https://papers.ssrn.com/sol3/papers.cfm?abstra...</td>\n",
       "    </tr>\n",
       "  </tbody>\n",
       "</table>\n",
       "</div>"
      ],
      "text/plain": [
       "                 Author                                              Title  \\\n",
       "0  Silviu Ilie Saplacan  The Evolution of Concepts and Procedures conce...   \n",
       "1  Silviu Ilie Saplacan  The Evolution of Concepts and Procedures Conce...   \n",
       "2          Anne Fleming     Two Centuries of Policing Swindles and Humbugs   \n",
       "3      Michael Mattioli         Autonomy in the Age of Autonomous Vehicles   \n",
       "4  Daniel Mihail Sandru  Interpretation and Application of European Uni...   \n",
       "\n",
       "  Pub_type                                            Journal Year_publish  \\\n",
       "0             Social Economic Debates Volume 6, Issue 1, 2017         aper   \n",
       "1            Social Economic Debates, Volume 6, Issue 1, 2017         aper   \n",
       "2           Reviews in American History, Vol. 46, No. 2, P...         2018   \n",
       "3           Boston University Journal of Science and Techn...         2018   \n",
       "4           Law Review, Volume VIII, Issue 1, January-June...         2018   \n",
       "\n",
       "  Doi_link                                           Abstract  \\\n",
       "0                                                               \n",
       "1                                                               \n",
       "2           Since the 1860s, when P.T. Barnum, the self-de...   \n",
       "3           This essay describes intertwined policy challe...   \n",
       "4           The interpretation and application of the Euro...   \n",
       "\n",
       "                                            Keywords  \\\n",
       "0                                 Date Written: 2017   \n",
       "1                        Date Written: June 26, 2018   \n",
       "2  Keywords: Legal History, Business History, Ant...   \n",
       "3  Keywords: Autonomous Vehicles, Self-Driving Ca...   \n",
       "4  Keywords: International Commercial Arbitration...   \n",
       "\n",
       "                                            Url_link  \n",
       "0  https://papers.ssrn.com/sol3/papers.cfm?abstra...  \n",
       "1  https://papers.ssrn.com/sol3/papers.cfm?abstra...  \n",
       "2  https://papers.ssrn.com/sol3/papers.cfm?abstra...  \n",
       "3  https://papers.ssrn.com/sol3/papers.cfm?abstra...  \n",
       "4  https://papers.ssrn.com/sol3/papers.cfm?abstra...  "
      ]
     },
     "execution_count": 317,
     "metadata": {},
     "output_type": "execute_result"
    }
   ],
   "source": [
    "df.head()"
   ]
  },
  {
   "cell_type": "code",
   "execution_count": 176,
   "metadata": {},
   "outputs": [],
   "source": [
    "# authors.replace('\\n\\n','\\n').replace('\\n',',').split(',')"
   ]
  },
  {
   "cell_type": "code",
   "execution_count": 259,
   "metadata": {
    "collapsed": true
   },
   "outputs": [],
   "source": [
    "# df2=df"
   ]
  },
  {
   "cell_type": "code",
   "execution_count": 261,
   "metadata": {
    "collapsed": true
   },
   "outputs": [],
   "source": [
    "# df2.to_csv(\"/Users/mariiapetryk/Documents/UF/Young/SSRN/SSRN_\"+searchWord+\".csv\")"
   ]
  },
  {
   "cell_type": "code",
   "execution_count": 514,
   "metadata": {
    "collapsed": true
   },
   "outputs": [],
   "source": [
    "# df = pd.read_csv(\"/Users/mariiapetryk/Documents/UF/Young/SSRN/SSRN_\"+searchWord+\".csv\")\n",
    "# df=df.drop(['Unnamed: 0','Year_publish_num'],axis=1)"
   ]
  },
  {
   "cell_type": "code",
   "execution_count": 341,
   "metadata": {},
   "outputs": [],
   "source": [
    "# Filter pubs >2012\n",
    "# if re.match(\"^[A-Za-z]*$\", page_id):\n",
    "#             pass\n",
    "#         else:\n",
    "\n",
    "df[\"Year_publish_num\"]=0\n",
    "try:\n",
    "    df[\"Year_publish_num\"]=df[\"Year_publish\"].astype(\"int\")\n",
    "except:\n",
    "    df[\"Year_publish_num\"]=9999\n",
    "df2=df[df[\"Year_publish_num\"]>2012]\n",
    "df2=df2.reset_index()\n",
    "df2=df2.drop(['index','Year_publish_num'],axis=1)"
   ]
  },
  {
   "cell_type": "code",
   "execution_count": 342,
   "metadata": {},
   "outputs": [],
   "source": [
    "# Encode strange characters\n",
    "df2['Journal'] =df2['Journal'].str.encode('ascii','ignore')\n",
    "df2['Author'] =df2['Author'].str.encode('ascii','ignore')\n",
    "df2['Title']=df2['Title'].str.encode('ascii','ignore')\n",
    "# df2['Year_publish']=df2['Year_publish'].str.encode('ascii','ignore')\n",
    "df2['Doi_link']=df2['Doi_link'].str.encode('ascii','ignore')\n",
    "df2['Abstract']=df2['Abstract'].str.encode('ascii','ignore')\n",
    "df2['Keywords']=df2['Keywords'].str.encode('ascii','ignore')\n",
    "df2['Url_link']=df2['Url_link'].str.encode('ascii','ignore')"
   ]
  },
  {
   "cell_type": "code",
   "execution_count": 343,
   "metadata": {},
   "outputs": [],
   "source": [
    "# Filter by searchWord\n",
    "for m in range(0,len(df2)):\n",
    "    if df2['Title'][m].find(searchWord)>0 or df2['Abstract'][m].find(searchWord)>0 or df2['Keywords'][m].find(searchWord)>0:\n",
    "        pass\n",
    "    else:\n",
    "        df2.drop([m])\n",
    "df2=df2.reset_index()\n",
    "df2=df2.drop(['index'],axis=1)"
   ]
  },
  {
   "cell_type": "code",
   "execution_count": 344,
   "metadata": {},
   "outputs": [
    {
     "data": {
      "text/plain": [
       "50"
      ]
     },
     "execution_count": 344,
     "metadata": {},
     "output_type": "execute_result"
    }
   ],
   "source": [
    "len(df2)"
   ]
  },
  {
   "cell_type": "code",
   "execution_count": 345,
   "metadata": {
    "scrolled": false
   },
   "outputs": [
    {
     "data": {
      "text/html": [
       "<div>\n",
       "<style scoped>\n",
       "    .dataframe tbody tr th:only-of-type {\n",
       "        vertical-align: middle;\n",
       "    }\n",
       "\n",
       "    .dataframe tbody tr th {\n",
       "        vertical-align: top;\n",
       "    }\n",
       "\n",
       "    .dataframe thead th {\n",
       "        text-align: right;\n",
       "    }\n",
       "</style>\n",
       "<table border=\"1\" class=\"dataframe\">\n",
       "  <thead>\n",
       "    <tr style=\"text-align: right;\">\n",
       "      <th></th>\n",
       "      <th>Author</th>\n",
       "      <th>Title</th>\n",
       "      <th>Pub_type</th>\n",
       "      <th>Journal</th>\n",
       "      <th>Year_publish</th>\n",
       "      <th>Doi_link</th>\n",
       "      <th>Abstract</th>\n",
       "      <th>Keywords</th>\n",
       "      <th>Url_link</th>\n",
       "    </tr>\n",
       "  </thead>\n",
       "  <tbody>\n",
       "    <tr>\n",
       "      <th>0</th>\n",
       "      <td>Saurabh</td>\n",
       "      <td>Technology Integration for the Success of B2C ...</td>\n",
       "      <td></td>\n",
       "      <td>The IUP Journal of Information Technology, Vol...</td>\n",
       "      <td>2018</td>\n",
       "      <td></td>\n",
       "      <td>Mobile phone subscriptions in India reached 1....</td>\n",
       "      <td>Keywords: Mobile commerce (m-commerce), Online...</td>\n",
       "      <td>https://papers.ssrn.com/sol3/papers.cfm?abstra...</td>\n",
       "    </tr>\n",
       "    <tr>\n",
       "      <th>1</th>\n",
       "      <td>George (Yiorgos) Allayannis</td>\n",
       "      <td>Fintech, Payments Innovation, and the Acquisit...</td>\n",
       "      <td></td>\n",
       "      <td>Darden Case No. UVA-F-1829</td>\n",
       "      <td>lets</td>\n",
       "      <td></td>\n",
       "      <td>This case uses the Vantiv, a US credit-card-pr...</td>\n",
       "      <td>Suggested Citation:</td>\n",
       "      <td>https://papers.ssrn.com/sol3/papers.cfm?abstra...</td>\n",
       "    </tr>\n",
       "    <tr>\n",
       "      <th>2</th>\n",
       "      <td>Madhushree</td>\n",
       "      <td>Business Strategy of Top Indian IT Company: Mi...</td>\n",
       "      <td></td>\n",
       "      <td>International Journal of Case Studies in Busin...</td>\n",
       "      <td>2018</td>\n",
       "      <td></td>\n",
       "      <td>MindTree is one of the fastest growing Informa...</td>\n",
       "      <td>Keywords: MindTree, Case study, Welcome to pos...</td>\n",
       "      <td>https://papers.ssrn.com/sol3/papers.cfm?abstra...</td>\n",
       "    </tr>\n",
       "    <tr>\n",
       "      <th>3</th>\n",
       "      <td>Tabrez Ahmad</td>\n",
       "      <td>Challenges of Cyber Crimes in India: A Critica...</td>\n",
       "      <td></td>\n",
       "      <td>22nd World Multiconference on Systemics, Cyber...</td>\n",
       "      <td>2018</td>\n",
       "      <td></td>\n",
       "      <td>Information Technology Act was passed in 2000 ...</td>\n",
       "      <td>Suggested Citation:</td>\n",
       "      <td>https://papers.ssrn.com/sol3/papers.cfm?abstra...</td>\n",
       "    </tr>\n",
       "    <tr>\n",
       "      <th>4</th>\n",
       "      <td>Leon Perlman PhD</td>\n",
       "      <td>Legal and Regulatory Aspects of Mobile Financi...</td>\n",
       "      <td></td>\n",
       "      <td>University of South Africa, Pretoria [Phd/Lld ...</td>\n",
       "      <td>2012</td>\n",
       "      <td>http://dx.doi.org/10.2139/ssrn.3174463</td>\n",
       "      <td>The thesis deals with the emergence of bank an...</td>\n",
       "      <td>Keywords: Additive Banking; Agents; Airtime; A...</td>\n",
       "      <td>https://papers.ssrn.com/sol3/papers.cfm?abstra...</td>\n",
       "    </tr>\n",
       "  </tbody>\n",
       "</table>\n",
       "</div>"
      ],
      "text/plain": [
       "                        Author  \\\n",
       "0                      Saurabh   \n",
       "1  George (Yiorgos) Allayannis   \n",
       "2                   Madhushree   \n",
       "3                 Tabrez Ahmad   \n",
       "4             Leon Perlman PhD   \n",
       "\n",
       "                                               Title Pub_type  \\\n",
       "0  Technology Integration for the Success of B2C ...            \n",
       "1  Fintech, Payments Innovation, and the Acquisit...            \n",
       "2  Business Strategy of Top Indian IT Company: Mi...            \n",
       "3  Challenges of Cyber Crimes in India: A Critica...            \n",
       "4  Legal and Regulatory Aspects of Mobile Financi...            \n",
       "\n",
       "                                             Journal Year_publish  \\\n",
       "0  The IUP Journal of Information Technology, Vol...         2018   \n",
       "1                         Darden Case No. UVA-F-1829         lets   \n",
       "2  International Journal of Case Studies in Busin...         2018   \n",
       "3  22nd World Multiconference on Systemics, Cyber...         2018   \n",
       "4  University of South Africa, Pretoria [Phd/Lld ...         2012   \n",
       "\n",
       "                                 Doi_link  \\\n",
       "0                                           \n",
       "1                                           \n",
       "2                                           \n",
       "3                                           \n",
       "4  http://dx.doi.org/10.2139/ssrn.3174463   \n",
       "\n",
       "                                            Abstract  \\\n",
       "0  Mobile phone subscriptions in India reached 1....   \n",
       "1  This case uses the Vantiv, a US credit-card-pr...   \n",
       "2  MindTree is one of the fastest growing Informa...   \n",
       "3  Information Technology Act was passed in 2000 ...   \n",
       "4  The thesis deals with the emergence of bank an...   \n",
       "\n",
       "                                            Keywords  \\\n",
       "0  Keywords: Mobile commerce (m-commerce), Online...   \n",
       "1                                Suggested Citation:   \n",
       "2  Keywords: MindTree, Case study, Welcome to pos...   \n",
       "3                                Suggested Citation:   \n",
       "4  Keywords: Additive Banking; Agents; Airtime; A...   \n",
       "\n",
       "                                            Url_link  \n",
       "0  https://papers.ssrn.com/sol3/papers.cfm?abstra...  \n",
       "1  https://papers.ssrn.com/sol3/papers.cfm?abstra...  \n",
       "2  https://papers.ssrn.com/sol3/papers.cfm?abstra...  \n",
       "3  https://papers.ssrn.com/sol3/papers.cfm?abstra...  \n",
       "4  https://papers.ssrn.com/sol3/papers.cfm?abstra...  "
      ]
     },
     "execution_count": 345,
     "metadata": {},
     "output_type": "execute_result"
    }
   ],
   "source": [
    "df2.head()"
   ]
  },
  {
   "cell_type": "code",
   "execution_count": 346,
   "metadata": {},
   "outputs": [
    {
     "data": {
      "text/plain": [
       "'mobile commerce'"
      ]
     },
     "execution_count": 346,
     "metadata": {},
     "output_type": "execute_result"
    }
   ],
   "source": [
    "searchWord"
   ]
  },
  {
   "cell_type": "code",
   "execution_count": 347,
   "metadata": {},
   "outputs": [],
   "source": [
    "df2.to_csv(\"C:\\Users\\mariia.petryk/List SSRN_\"+searchWord+\".csv\")"
   ]
  },
  {
   "cell_type": "code",
   "execution_count": 522,
   "metadata": {
    "collapsed": true
   },
   "outputs": [],
   "source": [
    "## Double check for search word"
   ]
  },
  {
   "cell_type": "code",
   "execution_count": null,
   "metadata": {
    "collapsed": true
   },
   "outputs": [],
   "source": [
    "# f = pd.read_csv(\"/Users/mariiapetryk/Documents/UF/Young/SSRN/List SSRN_coopetition/List SSRN_\"+searchWord2+\".csv\")"
   ]
  },
  {
   "cell_type": "code",
   "execution_count": 484,
   "metadata": {
    "collapsed": true
   },
   "outputs": [],
   "source": [
    "# # searchWord_check=searchWord2\n",
    "# searchWord_check=\"multi-\""
   ]
  },
  {
   "cell_type": "code",
   "execution_count": 485,
   "metadata": {
    "collapsed": true
   },
   "outputs": [],
   "source": [
    "# # Filter by searchWord\n",
    "# for m in range(0,len(df2)):\n",
    "#     if df2['Title'][m].find(searchWord_check)>0 or df2['Abstract'][m].find(searchWord_check)>0 or df2['Keywords'][m].find(searchWord_check)>0:\n",
    "#         pass\n",
    "#     else:\n",
    "#         df2.drop([m])\n",
    "# df2=df2.reset_index()\n",
    "# df2=df2.drop(['index'],axis=1)"
   ]
  },
  {
   "cell_type": "code",
   "execution_count": null,
   "metadata": {
    "collapsed": true
   },
   "outputs": [],
   "source": [
    "## Next: selection model for topics definition\n",
    "## i.e. based on info from other paper databases build classification model and apply on SSRN papers (\"bad\" categorization system)\n",
    "## https://towardsdatascience.com/topic-modelling-in-python-with-nltk-and-gensim-4ef03213cd21"
   ]
  },
  {
   "cell_type": "code",
   "execution_count": 522,
   "metadata": {},
   "outputs": [],
   "source": [
    "searchWord=\"piracy\"\n",
    "f = pd.read_csv(\"C:\\Users\\mariia.petryk/List SSRN_\"+searchWord+\".csv\")"
   ]
  },
  {
   "cell_type": "code",
   "execution_count": 464,
   "metadata": {},
   "outputs": [],
   "source": [
    "f=df2"
   ]
  },
  {
   "cell_type": "code",
   "execution_count": 523,
   "metadata": {},
   "outputs": [],
   "source": [
    "f['Title']=f['Title'].astype(\"str\")\n",
    "f['Abstract']=f['Abstract'].astype(\"str\")\n",
    "f['Keywords']=f['Keywords'].astype(\"str\")"
   ]
  },
  {
   "cell_type": "code",
   "execution_count": 486,
   "metadata": {},
   "outputs": [],
   "source": [
    "# Double check by searchWord\n",
    "dcheck_word=searchWord\n",
    "searchWord_check=searchWord\n",
    "m=0\n",
    "for m in range(0,len(f)):\n",
    "#     if f['Keywords'][m].find(dcheck_word)>0:\n",
    "#         pass\n",
    "    if f['Title'][m].find(searchWord_check)>0 or f['Abstract'][m].find(searchWord_check)>0 or f['Keywords'][m].find(searchWord_check)>0:\n",
    "        pass\n",
    "    else:\n",
    "        f=f.drop([m])\n",
    "f=f.reset_index()\n",
    "f=f.drop(['index'],axis=1)"
   ]
  },
  {
   "cell_type": "code",
   "execution_count": 524,
   "metadata": {},
   "outputs": [
    {
     "data": {
      "text/plain": [
       "'piracy'"
      ]
     },
     "execution_count": 524,
     "metadata": {},
     "output_type": "execute_result"
    }
   ],
   "source": [
    "searchWord"
   ]
  },
  {
   "cell_type": "code",
   "execution_count": 525,
   "metadata": {},
   "outputs": [
    {
     "data": {
      "text/plain": [
       "'e-commerce_2'"
      ]
     },
     "execution_count": 525,
     "metadata": {},
     "output_type": "execute_result"
    }
   ],
   "source": [
    "searchWord_check"
   ]
  },
  {
   "cell_type": "code",
   "execution_count": 526,
   "metadata": {},
   "outputs": [
    {
     "data": {
      "text/plain": [
       "50"
      ]
     },
     "execution_count": 526,
     "metadata": {},
     "output_type": "execute_result"
    }
   ],
   "source": [
    "len(f)"
   ]
  },
  {
   "cell_type": "code",
   "execution_count": 193,
   "metadata": {},
   "outputs": [],
   "source": [
    "# dcheck_word=searchWord.split()\n",
    "# m=29\n",
    "# # for m in range(0,len(f)):\n",
    "# if m ==29:\n",
    "# #     chk1 = filter(lambda x: x not in f['Title'][m], dcheck_word)\n",
    "#     chk2 = filter(lambda x: x not in f['Keywords'][m], dcheck_word)\n",
    "# #     chk3 = filter(lambda x: x not in f['Keywords'][m], dcheck_word)\n",
    "#     chk=len(chk2)\n",
    "# #     chk=min(len(chk1),len(chk2),len(chk3))\n",
    "#     if chk>0:\n",
    "#         f.drop([m])\n",
    "#     else:\n",
    "#         pass\n",
    "# f=f.reset_index()\n",
    "# f=f.drop(['index'],axis=1)"
   ]
  },
  {
   "cell_type": "code",
   "execution_count": 527,
   "metadata": {},
   "outputs": [],
   "source": [
    "met=pd.DataFrame(columns=['Methodology'])\n",
    "met[\"Methodology\"]=f[\"Journal\"]"
   ]
  },
  {
   "cell_type": "code",
   "execution_count": 528,
   "metadata": {},
   "outputs": [],
   "source": [
    "empirical_list1=[\"experiment\",\"data\",\"empirical\"]\n",
    "analytical_list1=[\"model\",\"game\",\"systematic\",\"condition\"]\n",
    "analytical_list2=[\"contract\",\"welfare\",\"profit\",\"cooperation\",\"competition\",\"scenario\",\"monopoly\",\"heterogeneous\"]\n",
    "empirical_list2=[\"Twitter\",\"indicator\",\"collect\",\"survey\",\"econometric\",\"regression\",\"test\",\"%\",\"robustness\"]\n",
    "\n",
    "y=0\n",
    "# empirical_list_re = re.compile(\"|\".join(empirical_list),re.IGNORECASE)\n",
    "# analytical_list_re = re.compile(\"|\".join(analytical_list),re.IGNORECASE)\n",
    "for y in range(0,len(f)):\n",
    "    try:\n",
    "        if re.compile(\"|\".join(empirical_list1),re.IGNORECASE).search(f[\"Abstract\"].iloc[y]):\n",
    "            met[\"Methodology\"].iloc[y]=\"empirical\"    \n",
    "        else:\n",
    "            if re.compile(\"|\".join(analytical_list1),re.IGNORECASE).search(f[\"Abstract\"].iloc[y]):\n",
    "                met[\"Methodology\"].iloc[y]=\"analytical\"\n",
    "            else:\n",
    "                if re.compile(\"|\".join(empirical_list2),re.IGNORECASE).search(f[\"Abstract\"].iloc[y]):\n",
    "                    met[\"Methodology\"].iloc[y]=\"empirical\"\n",
    "                else:\n",
    "                    if re.compile(\"|\".join(analytical_list2),re.IGNORECASE).search(f[\"Abstract\"].iloc[y]):\n",
    "                        met[\"Methodology\"].iloc[y]=\"analytical\"\n",
    "                    else:\n",
    "                        met[\"Methodology\"].iloc[y]=\"analytical\"\n",
    "    except:\n",
    "         met[\"Methodology\"].iloc[y]=\"\""
   ]
  },
  {
   "cell_type": "code",
   "execution_count": 529,
   "metadata": {},
   "outputs": [],
   "source": [
    "f['Methodology'] = met[\"Methodology\"]"
   ]
  },
  {
   "cell_type": "code",
   "execution_count": 530,
   "metadata": {},
   "outputs": [],
   "source": [
    "# f=f.drop(['num'],axis=1)\n",
    "f=f.reset_index()\n",
    "f=f.drop(['index'],axis=1)"
   ]
  },
  {
   "cell_type": "code",
   "execution_count": 531,
   "metadata": {},
   "outputs": [
    {
     "data": {
      "text/html": [
       "<div>\n",
       "<style scoped>\n",
       "    .dataframe tbody tr th:only-of-type {\n",
       "        vertical-align: middle;\n",
       "    }\n",
       "\n",
       "    .dataframe tbody tr th {\n",
       "        vertical-align: top;\n",
       "    }\n",
       "\n",
       "    .dataframe thead th {\n",
       "        text-align: right;\n",
       "    }\n",
       "</style>\n",
       "<table border=\"1\" class=\"dataframe\">\n",
       "  <thead>\n",
       "    <tr style=\"text-align: right;\">\n",
       "      <th></th>\n",
       "      <th>Unnamed: 0</th>\n",
       "      <th>Author</th>\n",
       "      <th>Title</th>\n",
       "      <th>Pub_type</th>\n",
       "      <th>Journal</th>\n",
       "      <th>Year_publish</th>\n",
       "      <th>Doi_link</th>\n",
       "      <th>Abstract</th>\n",
       "      <th>Keywords</th>\n",
       "      <th>Url_link</th>\n",
       "      <th>Methodology</th>\n",
       "    </tr>\n",
       "  </thead>\n",
       "  <tbody>\n",
       "    <tr>\n",
       "      <th>0</th>\n",
       "      <td>0</td>\n",
       "      <td>Zike Cao</td>\n",
       "      <td>Revenge after 'Freebies' Are Gone? Effects of ...</td>\n",
       "      <td>NaN</td>\n",
       "      <td>NaN</td>\n",
       "      <td>2018</td>\n",
       "      <td>NaN</td>\n",
       "      <td>Recently, the advent of Denuvo as a highly eff...</td>\n",
       "      <td>Keywords: Anti-Tamper, Denuvo, Digital Piracy,...</td>\n",
       "      <td>https://papers.ssrn.com/sol3/papers.cfm?abstra...</td>\n",
       "      <td>empirical</td>\n",
       "    </tr>\n",
       "    <tr>\n",
       "      <th>1</th>\n",
       "      <td>1</td>\n",
       "      <td>Andrew Kent</td>\n",
       "      <td>Piracy, the Law of Nations, and the Limits of ...</td>\n",
       "      <td>NaN</td>\n",
       "      <td>Forthcoming 39 Michigan Journal of Internation...</td>\n",
       "      <td>2018</td>\n",
       "      <td>NaN</td>\n",
       "      <td>This Article engages the long-running debate a...</td>\n",
       "      <td>Keywords: piracy, Constitution, extraterritori...</td>\n",
       "      <td>https://papers.ssrn.com/sol3/papers.cfm?abstra...</td>\n",
       "      <td>analytical</td>\n",
       "    </tr>\n",
       "    <tr>\n",
       "      <th>2</th>\n",
       "      <td>2</td>\n",
       "      <td>Masakazu Ishihara</td>\n",
       "      <td>Software Piracy and Outsourcing in Two-Sided M...</td>\n",
       "      <td>NaN</td>\n",
       "      <td>NaN</td>\n",
       "      <td>2018</td>\n",
       "      <td>http://dx.doi.org/10.2139/ssrn.3177129</td>\n",
       "      <td>This paper examines the role of software pirac...</td>\n",
       "      <td>Keywords: Software Piracy, Two-Sided Markets, ...</td>\n",
       "      <td>https://papers.ssrn.com/sol3/papers.cfm?abstra...</td>\n",
       "      <td>empirical</td>\n",
       "    </tr>\n",
       "    <tr>\n",
       "      <th>3</th>\n",
       "      <td>3</td>\n",
       "      <td>Tacettin alk</td>\n",
       "      <td>Uluslararas Hukukta Deniz Haydutlugu Ve Somali...</td>\n",
       "      <td>NaN</td>\n",
       "      <td>Hacettepe Hukuk Fakltesi Dergisi, Cilt: 7, Say...</td>\n",
       "      <td>2017</td>\n",
       "      <td>NaN</td>\n",
       "      <td>Turkish Abstract: Tarihsel srete, deniz haydut...</td>\n",
       "      <td>Note: Downloadable document is in Turkish.</td>\n",
       "      <td>https://papers.ssrn.com/sol3/papers.cfm?abstra...</td>\n",
       "      <td>empirical</td>\n",
       "    </tr>\n",
       "    <tr>\n",
       "      <th>4</th>\n",
       "      <td>4</td>\n",
       "      <td>Michael Mandler</td>\n",
       "      <td>Piracy Versus Monopoly in the Market for Consp...</td>\n",
       "      <td>NaN</td>\n",
       "      <td>The Economic Journal, Vol. 128, Issue 610, pp....</td>\n",
       "      <td>aper</td>\n",
       "      <td>http://dx.doi.org/10.1111/ecoj.12437</td>\n",
       "      <td>nan</td>\n",
       "      <td>Date Written: May 2018</td>\n",
       "      <td>https://papers.ssrn.com/sol3/papers.cfm?abstra...</td>\n",
       "      <td>analytical</td>\n",
       "    </tr>\n",
       "  </tbody>\n",
       "</table>\n",
       "</div>"
      ],
      "text/plain": [
       "   Unnamed: 0             Author  \\\n",
       "0           0           Zike Cao   \n",
       "1           1        Andrew Kent   \n",
       "2           2  Masakazu Ishihara   \n",
       "3           3       Tacettin alk   \n",
       "4           4    Michael Mandler   \n",
       "\n",
       "                                               Title  Pub_type  \\\n",
       "0  Revenge after 'Freebies' Are Gone? Effects of ...       NaN   \n",
       "1  Piracy, the Law of Nations, and the Limits of ...       NaN   \n",
       "2  Software Piracy and Outsourcing in Two-Sided M...       NaN   \n",
       "3  Uluslararas Hukukta Deniz Haydutlugu Ve Somali...       NaN   \n",
       "4  Piracy Versus Monopoly in the Market for Consp...       NaN   \n",
       "\n",
       "                                             Journal Year_publish  \\\n",
       "0                                                NaN         2018   \n",
       "1  Forthcoming 39 Michigan Journal of Internation...         2018   \n",
       "2                                                NaN         2018   \n",
       "3  Hacettepe Hukuk Fakltesi Dergisi, Cilt: 7, Say...         2017   \n",
       "4  The Economic Journal, Vol. 128, Issue 610, pp....         aper   \n",
       "\n",
       "                                 Doi_link  \\\n",
       "0                                     NaN   \n",
       "1                                     NaN   \n",
       "2  http://dx.doi.org/10.2139/ssrn.3177129   \n",
       "3                                     NaN   \n",
       "4    http://dx.doi.org/10.1111/ecoj.12437   \n",
       "\n",
       "                                            Abstract  \\\n",
       "0  Recently, the advent of Denuvo as a highly eff...   \n",
       "1  This Article engages the long-running debate a...   \n",
       "2  This paper examines the role of software pirac...   \n",
       "3  Turkish Abstract: Tarihsel srete, deniz haydut...   \n",
       "4                                                nan   \n",
       "\n",
       "                                            Keywords  \\\n",
       "0  Keywords: Anti-Tamper, Denuvo, Digital Piracy,...   \n",
       "1  Keywords: piracy, Constitution, extraterritori...   \n",
       "2  Keywords: Software Piracy, Two-Sided Markets, ...   \n",
       "3         Note: Downloadable document is in Turkish.   \n",
       "4                             Date Written: May 2018   \n",
       "\n",
       "                                            Url_link Methodology  \n",
       "0  https://papers.ssrn.com/sol3/papers.cfm?abstra...   empirical  \n",
       "1  https://papers.ssrn.com/sol3/papers.cfm?abstra...  analytical  \n",
       "2  https://papers.ssrn.com/sol3/papers.cfm?abstra...   empirical  \n",
       "3  https://papers.ssrn.com/sol3/papers.cfm?abstra...   empirical  \n",
       "4  https://papers.ssrn.com/sol3/papers.cfm?abstra...  analytical  "
      ]
     },
     "execution_count": 531,
     "metadata": {},
     "output_type": "execute_result"
    }
   ],
   "source": [
    "f.head()"
   ]
  },
  {
   "cell_type": "code",
   "execution_count": 532,
   "metadata": {},
   "outputs": [
    {
     "data": {
      "text/plain": [
       "'piracy'"
      ]
     },
     "execution_count": 532,
     "metadata": {},
     "output_type": "execute_result"
    }
   ],
   "source": [
    "searchWord"
   ]
  },
  {
   "cell_type": "code",
   "execution_count": 533,
   "metadata": {},
   "outputs": [],
   "source": [
    "f.to_csv(\"C:\\Users\\mariia.petryk/List SSRN_\"+searchWord+\"_2.csv\")"
   ]
  },
  {
   "cell_type": "code",
   "execution_count": null,
   "metadata": {
    "collapsed": true
   },
   "outputs": [],
   "source": [
    "## Next (after previous): build classifier for detecting analytical/empirical paper\n",
    "## Pre-step: concat all files w papers into one database"
   ]
  },
  {
   "cell_type": "markdown",
   "metadata": {},
   "source": [
    "# Part 2. Download papers"
   ]
  },
  {
   "cell_type": "code",
   "execution_count": 3,
   "metadata": {},
   "outputs": [],
   "source": [
    "searchWord='coopetition'"
   ]
  },
  {
   "cell_type": "code",
   "execution_count": 7,
   "metadata": {},
   "outputs": [],
   "source": [
    "# searchWord=\"coopetition\"\n",
    "f = pd.read_csv(\"C:\\Users\\mariia.petryk/SSRN_\"+searchWord+\".csv\")\n",
    "# data = f.readlines()"
   ]
  },
  {
   "cell_type": "code",
   "execution_count": 9,
   "metadata": {},
   "outputs": [
    {
     "data": {
      "text/html": [
       "<div>\n",
       "<style scoped>\n",
       "    .dataframe tbody tr th:only-of-type {\n",
       "        vertical-align: middle;\n",
       "    }\n",
       "\n",
       "    .dataframe tbody tr th {\n",
       "        vertical-align: top;\n",
       "    }\n",
       "\n",
       "    .dataframe thead th {\n",
       "        text-align: right;\n",
       "    }\n",
       "</style>\n",
       "<table border=\"1\" class=\"dataframe\">\n",
       "  <thead>\n",
       "    <tr style=\"text-align: right;\">\n",
       "      <th></th>\n",
       "      <th>num</th>\n",
       "      <th>Author</th>\n",
       "      <th>Title</th>\n",
       "      <th>Pub_type</th>\n",
       "      <th>Journal</th>\n",
       "      <th>Year_publish</th>\n",
       "      <th>Doi_link</th>\n",
       "      <th>Abstract</th>\n",
       "      <th>Methodology</th>\n",
       "      <th>Keywords</th>\n",
       "      <th>Category</th>\n",
       "    </tr>\n",
       "  </thead>\n",
       "  <tbody>\n",
       "    <tr>\n",
       "      <th>0</th>\n",
       "      <td>1</td>\n",
       "      <td>Estelle PellegrinBoucher</td>\n",
       "      <td>Managing Selling Coopetition: A Case Study of ...</td>\n",
       "      <td>Journal Article</td>\n",
       "      <td>European Management Review, Vol. 15, Issue 1, ...</td>\n",
       "      <td>2018</td>\n",
       "      <td>http://dx.doi.org/10.1111/emre.12123</td>\n",
       "      <td>Managing coopetition is important for the succ...</td>\n",
       "      <td>analytical</td>\n",
       "      <td>Keywords: coopetition, selling, alliances, man...</td>\n",
       "      <td>coopetition</td>\n",
       "    </tr>\n",
       "    <tr>\n",
       "      <th>1</th>\n",
       "      <td>2</td>\n",
       "      <td>Suzan Burton</td>\n",
       "      <td>Helping Those Who Help Us: Co-Branded and Co-C...</td>\n",
       "      <td>Journal Article</td>\n",
       "      <td>Journal of Brand Management, Vol. 24, Issue 4,...</td>\n",
       "      <td>2017</td>\n",
       "      <td>http://dx.doi.org/10.1057/s41262-017-0053-5</td>\n",
       "      <td>Partnerships between brands and non-profit-org...</td>\n",
       "      <td>empirical</td>\n",
       "      <td>Keywords: Co-created communication, Brands, Co...</td>\n",
       "      <td>coopetition</td>\n",
       "    </tr>\n",
       "    <tr>\n",
       "      <th>2</th>\n",
       "      <td>3</td>\n",
       "      <td>Miriam Wilhelm</td>\n",
       "      <td>Managing Coopetition in Supplier Networks  A P...</td>\n",
       "      <td>Journal Article</td>\n",
       "      <td>Journal of Supply Chain Management 54 (2018)</td>\n",
       "      <td>2018</td>\n",
       "      <td>NaN</td>\n",
       "      <td>Scholars in the field of supply chain manageme...</td>\n",
       "      <td>analytical</td>\n",
       "      <td>Keywords: Supplier Management, Partnering (All...</td>\n",
       "      <td>coopetition</td>\n",
       "    </tr>\n",
       "    <tr>\n",
       "      <th>3</th>\n",
       "      <td>4</td>\n",
       "      <td>Nukhet Harmancioglu</td>\n",
       "      <td>Silicon Envy: How Global Innovation Clusters H...</td>\n",
       "      <td>Working Paper</td>\n",
       "      <td>NaN</td>\n",
       "      <td>2018</td>\n",
       "      <td>http://dx.doi.org/10.2139/ssrn.3123841</td>\n",
       "      <td>This study is the first to show intercluster d...</td>\n",
       "      <td>empirical</td>\n",
       "      <td>Keywords: Innovation, Clusters, Inter-Cluster ...</td>\n",
       "      <td>coopetition</td>\n",
       "    </tr>\n",
       "    <tr>\n",
       "      <th>4</th>\n",
       "      <td>5</td>\n",
       "      <td>Blake Mathias</td>\n",
       "      <td>An Identity Perspective on Coopetition in the ...</td>\n",
       "      <td>Journal Article</td>\n",
       "      <td>Mathias BD, Huyghe A, Frid CJ, Galloway TL. An...</td>\n",
       "      <td>2018</td>\n",
       "      <td>NaN</td>\n",
       "      <td>Research Summary: To further our understanding...</td>\n",
       "      <td>analytical</td>\n",
       "      <td>Keywords: qualitative research, coopetition, o...</td>\n",
       "      <td>coopetition</td>\n",
       "    </tr>\n",
       "  </tbody>\n",
       "</table>\n",
       "</div>"
      ],
      "text/plain": [
       "   num                    Author  \\\n",
       "0    1  Estelle PellegrinBoucher   \n",
       "1    2              Suzan Burton   \n",
       "2    3            Miriam Wilhelm   \n",
       "3    4       Nukhet Harmancioglu   \n",
       "4    5             Blake Mathias   \n",
       "\n",
       "                                               Title         Pub_type  \\\n",
       "0  Managing Selling Coopetition: A Case Study of ...  Journal Article   \n",
       "1  Helping Those Who Help Us: Co-Branded and Co-C...  Journal Article   \n",
       "2  Managing Coopetition in Supplier Networks  A P...  Journal Article   \n",
       "3  Silicon Envy: How Global Innovation Clusters H...    Working Paper   \n",
       "4  An Identity Perspective on Coopetition in the ...  Journal Article   \n",
       "\n",
       "                                             Journal  Year_publish  \\\n",
       "0  European Management Review, Vol. 15, Issue 1, ...          2018   \n",
       "1  Journal of Brand Management, Vol. 24, Issue 4,...          2017   \n",
       "2       Journal of Supply Chain Management 54 (2018)          2018   \n",
       "3                                                NaN          2018   \n",
       "4  Mathias BD, Huyghe A, Frid CJ, Galloway TL. An...          2018   \n",
       "\n",
       "                                      Doi_link  \\\n",
       "0         http://dx.doi.org/10.1111/emre.12123   \n",
       "1  http://dx.doi.org/10.1057/s41262-017-0053-5   \n",
       "2                                          NaN   \n",
       "3       http://dx.doi.org/10.2139/ssrn.3123841   \n",
       "4                                          NaN   \n",
       "\n",
       "                                            Abstract Methodology  \\\n",
       "0  Managing coopetition is important for the succ...  analytical   \n",
       "1  Partnerships between brands and non-profit-org...   empirical   \n",
       "2  Scholars in the field of supply chain manageme...  analytical   \n",
       "3  This study is the first to show intercluster d...   empirical   \n",
       "4  Research Summary: To further our understanding...  analytical   \n",
       "\n",
       "                                            Keywords     Category  \n",
       "0  Keywords: coopetition, selling, alliances, man...  coopetition  \n",
       "1  Keywords: Co-created communication, Brands, Co...  coopetition  \n",
       "2  Keywords: Supplier Management, Partnering (All...  coopetition  \n",
       "3  Keywords: Innovation, Clusters, Inter-Cluster ...  coopetition  \n",
       "4  Keywords: qualitative research, coopetition, o...  coopetition  "
      ]
     },
     "execution_count": 9,
     "metadata": {},
     "output_type": "execute_result"
    }
   ],
   "source": [
    "f.head()"
   ]
  },
  {
   "cell_type": "code",
   "execution_count": 289,
   "metadata": {},
   "outputs": [
    {
     "name": "stdout",
     "output_type": "stream",
     "text": [
      "knut blind_2013.pdf\n",
      "maxime cohen_2017.pdf\n",
      "xiaolong guo_2013.pdf\n",
      "yunke mai_2017.pdf\n",
      "christos n. pitelis_2015.pdf\n",
      "jonas hoffmann_2016.pdf\n",
      "ebru tekin bilbil_2017.pdf\n",
      "yoram kirsh_2018.pdf\n",
      "rgis lanneau_2013.pdf\n",
      "nukhet harmancioglu_2018.pdf\n",
      "wouter verheyen_2018.pdf\n"
     ]
    }
   ],
   "source": [
    "# k=0\n",
    "# for k in range(0,len(f['Doi_link'])):\n",
    "#     # Selenium \n",
    "#     options = webdriver.ChromeOptions()\n",
    "#     download_folder = \"/Users/mariiapetryk/Documents/UF/Young/SSRN\"    \n",
    "#     profile={}\n",
    "#     options.add_experimental_option(\"prefs\", profile)\n",
    "#     # set driver\n",
    "#     driver = webdriver.Chrome('/Users/mariiapetryk/Downloads/chromedriver', chrome_options=options)\n",
    "#     #put here the adress of your page\n",
    "#     link=f['Doi_link'][k]\n",
    "#     driver.get(link)\n",
    "#     # Select element by id\n",
    "#     # driver.find_element_by_id(\"advanced_search\").send_keys(searchWord)\n",
    "#     # simulate hitting button\n",
    "#     try:\n",
    "#         driver.find_element_by_xpath('//*[@id=\"downloadPdf\"]').click()\n",
    "#         #Change name of pdf file in folder\n",
    "#         filename2=((' '.join(f['Author'].iloc[k].split()).replace(\", \", \"_\").replace(\",\", \"_\"))+\"_\"+str(f['Year_publish'].iloc[k])+\".pdf\").lower()\n",
    "#         print filename2\n",
    "#         for filename in os.walk('/Users/mariiapetryk/Downloads/'):\n",
    "#             for fn in filename[2]:\n",
    "#                 try:\n",
    "#                     if fn.startswith(\"SSRN\"):\n",
    "#                         os.rename(fn, filename2)\n",
    "#                 except:\n",
    "#                     pass\n",
    "#     except:\n",
    "#         pass\n",
    "#     sleep(10)\n",
    "#     wait = WebDriverWait(driver, 10)\n",
    "#     driver.close()"
   ]
  },
  {
   "cell_type": "code",
   "execution_count": 15,
   "metadata": {},
   "outputs": [],
   "source": [
    "url=pd.DataFrame(columns=['Url_link'])"
   ]
  },
  {
   "cell_type": "code",
   "execution_count": 16,
   "metadata": {
    "scrolled": false
   },
   "outputs": [
    {
     "name": "stdout",
     "output_type": "stream",
     "text": [
      "https://ssrn.com/abstract=3188604\n",
      "https://ssrn.com/abstract=3188788\n",
      "https://ssrn.com/abstract=3141773\n",
      "miriam wilhelm_2018.pdf\n",
      "https://ssrn.com/abstract=3123841\n",
      "nukhet harmancioglu_2018.pdf\n",
      "https://ssrn.com/abstract=3113726\n",
      "blake mathias_2018.pdf\n",
      "https://ssrn.com/abstract=3119656\n",
      "wouter verheyen_2018.pdf\n",
      "https://ssrn.com/abstract=1020616\n",
      "yoram kirsh_2018.pdf\n"
     ]
    },
    {
     "ename": "WebDriverException",
     "evalue": "Message: chrome not reachable\n  (Session info: chrome=67.0.3396.99)\n  (Driver info: chromedriver=2.38.552522 (437e6fbedfa8762dec75e2c5b3ddb86763dc9dcb),platform=Windows NT 10.0.14393 x86_64)\n",
     "output_type": "error",
     "traceback": [
      "\u001b[1;31m---------------------------------------------------------------------------\u001b[0m",
      "\u001b[1;31mWebDriverException\u001b[0m                        Traceback (most recent call last)",
      "\u001b[1;32m<ipython-input-16-357fde683886>\u001b[0m in \u001b[0;36m<module>\u001b[1;34m()\u001b[0m\n\u001b[0;32m     43\u001b[0m         \u001b[1;32mpass\u001b[0m\u001b[1;33m\u001b[0m\u001b[0m\n\u001b[0;32m     44\u001b[0m \u001b[1;33m\u001b[0m\u001b[0m\n\u001b[1;32m---> 45\u001b[1;33m     \u001b[0mdriver\u001b[0m\u001b[1;33m.\u001b[0m\u001b[0mclose\u001b[0m\u001b[1;33m(\u001b[0m\u001b[1;33m)\u001b[0m\u001b[1;33m\u001b[0m\u001b[0m\n\u001b[0m\u001b[0;32m     46\u001b[0m     \u001b[0msleep\u001b[0m\u001b[1;33m(\u001b[0m\u001b[1;36m5\u001b[0m\u001b[1;33m)\u001b[0m\u001b[1;33m\u001b[0m\u001b[0m\n",
      "\u001b[1;32mc:\\python27\\lib\\site-packages\\selenium\\webdriver\\remote\\webdriver.pyc\u001b[0m in \u001b[0;36mclose\u001b[1;34m(self)\u001b[0m\n\u001b[0;32m    677\u001b[0m             \u001b[0mdriver\u001b[0m\u001b[1;33m.\u001b[0m\u001b[0mclose\u001b[0m\u001b[1;33m(\u001b[0m\u001b[1;33m)\u001b[0m\u001b[1;33m\u001b[0m\u001b[0m\n\u001b[0;32m    678\u001b[0m         \"\"\"\n\u001b[1;32m--> 679\u001b[1;33m         \u001b[0mself\u001b[0m\u001b[1;33m.\u001b[0m\u001b[0mexecute\u001b[0m\u001b[1;33m(\u001b[0m\u001b[0mCommand\u001b[0m\u001b[1;33m.\u001b[0m\u001b[0mCLOSE\u001b[0m\u001b[1;33m)\u001b[0m\u001b[1;33m\u001b[0m\u001b[0m\n\u001b[0m\u001b[0;32m    680\u001b[0m \u001b[1;33m\u001b[0m\u001b[0m\n\u001b[0;32m    681\u001b[0m     \u001b[1;32mdef\u001b[0m \u001b[0mquit\u001b[0m\u001b[1;33m(\u001b[0m\u001b[0mself\u001b[0m\u001b[1;33m)\u001b[0m\u001b[1;33m:\u001b[0m\u001b[1;33m\u001b[0m\u001b[0m\n",
      "\u001b[1;32mc:\\python27\\lib\\site-packages\\selenium\\webdriver\\remote\\webdriver.pyc\u001b[0m in \u001b[0;36mexecute\u001b[1;34m(self, driver_command, params)\u001b[0m\n\u001b[0;32m    310\u001b[0m         \u001b[0mresponse\u001b[0m \u001b[1;33m=\u001b[0m \u001b[0mself\u001b[0m\u001b[1;33m.\u001b[0m\u001b[0mcommand_executor\u001b[0m\u001b[1;33m.\u001b[0m\u001b[0mexecute\u001b[0m\u001b[1;33m(\u001b[0m\u001b[0mdriver_command\u001b[0m\u001b[1;33m,\u001b[0m \u001b[0mparams\u001b[0m\u001b[1;33m)\u001b[0m\u001b[1;33m\u001b[0m\u001b[0m\n\u001b[0;32m    311\u001b[0m         \u001b[1;32mif\u001b[0m \u001b[0mresponse\u001b[0m\u001b[1;33m:\u001b[0m\u001b[1;33m\u001b[0m\u001b[0m\n\u001b[1;32m--> 312\u001b[1;33m             \u001b[0mself\u001b[0m\u001b[1;33m.\u001b[0m\u001b[0merror_handler\u001b[0m\u001b[1;33m.\u001b[0m\u001b[0mcheck_response\u001b[0m\u001b[1;33m(\u001b[0m\u001b[0mresponse\u001b[0m\u001b[1;33m)\u001b[0m\u001b[1;33m\u001b[0m\u001b[0m\n\u001b[0m\u001b[0;32m    313\u001b[0m             response['value'] = self._unwrap_value(\n\u001b[0;32m    314\u001b[0m                 response.get('value', None))\n",
      "\u001b[1;32mc:\\python27\\lib\\site-packages\\selenium\\webdriver\\remote\\errorhandler.pyc\u001b[0m in \u001b[0;36mcheck_response\u001b[1;34m(self, response)\u001b[0m\n\u001b[0;32m    240\u001b[0m                 \u001b[0malert_text\u001b[0m \u001b[1;33m=\u001b[0m \u001b[0mvalue\u001b[0m\u001b[1;33m[\u001b[0m\u001b[1;34m'alert'\u001b[0m\u001b[1;33m]\u001b[0m\u001b[1;33m.\u001b[0m\u001b[0mget\u001b[0m\u001b[1;33m(\u001b[0m\u001b[1;34m'text'\u001b[0m\u001b[1;33m)\u001b[0m\u001b[1;33m\u001b[0m\u001b[0m\n\u001b[0;32m    241\u001b[0m             \u001b[1;32mraise\u001b[0m \u001b[0mexception_class\u001b[0m\u001b[1;33m(\u001b[0m\u001b[0mmessage\u001b[0m\u001b[1;33m,\u001b[0m \u001b[0mscreen\u001b[0m\u001b[1;33m,\u001b[0m \u001b[0mstacktrace\u001b[0m\u001b[1;33m,\u001b[0m \u001b[0malert_text\u001b[0m\u001b[1;33m)\u001b[0m\u001b[1;33m\u001b[0m\u001b[0m\n\u001b[1;32m--> 242\u001b[1;33m         \u001b[1;32mraise\u001b[0m \u001b[0mexception_class\u001b[0m\u001b[1;33m(\u001b[0m\u001b[0mmessage\u001b[0m\u001b[1;33m,\u001b[0m \u001b[0mscreen\u001b[0m\u001b[1;33m,\u001b[0m \u001b[0mstacktrace\u001b[0m\u001b[1;33m)\u001b[0m\u001b[1;33m\u001b[0m\u001b[0m\n\u001b[0m\u001b[0;32m    243\u001b[0m \u001b[1;33m\u001b[0m\u001b[0m\n\u001b[0;32m    244\u001b[0m     \u001b[1;32mdef\u001b[0m \u001b[0m_value_or_default\u001b[0m\u001b[1;33m(\u001b[0m\u001b[0mself\u001b[0m\u001b[1;33m,\u001b[0m \u001b[0mobj\u001b[0m\u001b[1;33m,\u001b[0m \u001b[0mkey\u001b[0m\u001b[1;33m,\u001b[0m \u001b[0mdefault\u001b[0m\u001b[1;33m)\u001b[0m\u001b[1;33m:\u001b[0m\u001b[1;33m\u001b[0m\u001b[0m\n",
      "\u001b[1;31mWebDriverException\u001b[0m: Message: chrome not reachable\n  (Session info: chrome=67.0.3396.99)\n  (Driver info: chromedriver=2.38.552522 (437e6fbedfa8762dec75e2c5b3ddb86763dc9dcb),platform=Windows NT 10.0.14393 x86_64)\n"
     ]
    }
   ],
   "source": [
    "# If doi links are missing\n",
    "\n",
    "for k in range(0,len(f)):\n",
    "# Selenium \n",
    "    options = webdriver.ChromeOptions()\n",
    "    download_folder = \"C:\\Users\\mariia.petryk\"    \n",
    "    profile={}\n",
    "    options.add_experimental_option(\"prefs\", profile)\n",
    "    # set driver\n",
    "    driver = webdriver.Chrome('C:\\Users\\mariia.petryk\\Downloads\\chromedriver_win32\\chromedriver.exe', chrome_options=options)\n",
    "    sleep(3)\n",
    "    #put here the adress of your page\n",
    "    link='https://papers.ssrn.com/sol3/DisplayAbstractSearch.cfm'\n",
    "    driver.get(link)\n",
    "    sleep(3)\n",
    "\n",
    "    driver.find_element_by_id(\"advanced_search\").send_keys(f[\"Title\"][k])\n",
    "    sleep(3)\n",
    "    driver.find_element_by_xpath('//*[@id=\"maincontent\"]/div/div[1]/div/form/div[1]/button').click()\n",
    "    sleep(3)\n",
    "    s=driver.find_element_by_class_name(\"tbody\").find_elements_by_tag_name('a')\n",
    "    sleep(3)\n",
    "    ll =s[0].get_attribute(\"href\")\n",
    "    url['Url_link'].loc[k] =ll\n",
    "    print ll\n",
    "    options = webdriver.ChromeOptions()\n",
    "    driver = webdriver.Chrome('C:\\Users\\mariia.petryk\\Downloads\\chromedriver_win32\\chromedriver.exe', chrome_options=options)\n",
    "    driver.get(ll)\n",
    "    sleep(3)\n",
    "    try:\n",
    "        driver.find_element_by_xpath('//*[@id=\"downloadPdf\"]').click()\n",
    "        sleep(3)\n",
    "        filename2=((' '.join(f['Author'].iloc[k].split()).replace(\", \", \"_\").replace(\",\", \"_\"))+\"_\"+str(f['Year_publish'].iloc[k])+\".pdf\").lower()\n",
    "        print filename2\n",
    "        for filename in os.walk('C:\\Users\\mariia.petryk'):\n",
    "            for fn in filename[2]:\n",
    "                try:\n",
    "                    if fn.startswith(\"SSRN\"):\n",
    "                        os.rename(fn, filename2)\n",
    "                except:\n",
    "                    pass\n",
    "    except:\n",
    "        pass\n",
    "\n",
    "    driver.close()\n",
    "    sleep(5)\n",
    "driver.close()"
   ]
  }
 ],
 "metadata": {
  "kernelspec": {
   "display_name": "Python 2",
   "language": "python",
   "name": "python2"
  },
  "language_info": {
   "codemirror_mode": {
    "name": "ipython",
    "version": 2
   },
   "file_extension": ".py",
   "mimetype": "text/x-python",
   "name": "python",
   "nbconvert_exporter": "python",
   "pygments_lexer": "ipython2",
   "version": "2.7.14"
  }
 },
 "nbformat": 4,
 "nbformat_minor": 2
}
