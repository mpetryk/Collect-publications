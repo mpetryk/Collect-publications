{
 "cells": [
  {
   "cell_type": "markdown",
   "metadata": {},
   "source": [
    "## Part 1. Get metadata"
   ]
  },
  {
   "cell_type": "code",
   "execution_count": 464,
   "metadata": {},
   "outputs": [],
   "source": [
    "import re\n",
    "import sys\n",
    "import pandas as pd\n",
    "import urllib2 \n",
    "from bs4 import BeautifulSoup \n",
    "import json"
   ]
  },
  {
   "cell_type": "code",
   "execution_count": 465,
   "metadata": {},
   "outputs": [],
   "source": [
    "import csv\n",
    "import requests "
   ]
  },
  {
   "cell_type": "code",
   "execution_count": 466,
   "metadata": {},
   "outputs": [],
   "source": [
    "from fake_useragent import UserAgent\n",
    "import requests\n",
    "from time import sleep"
   ]
  },
  {
   "cell_type": "code",
   "execution_count": 467,
   "metadata": {},
   "outputs": [
    {
     "name": "stdout",
     "output_type": "stream",
     "text": [
      "{'User-Agent': 'Mozilla/5.0 (Windows NT 6.1) AppleWebKit/537.36 (KHTML, like Gecko) Chrome/27.0.1453.90 Safari/537.36'}\n"
     ]
    }
   ],
   "source": [
    "ua = UserAgent()\n",
    "# print(ua.chrome)\n",
    "header = {'User-Agent':str(ua.chrome)}\n",
    "print(header)"
   ]
  },
  {
   "cell_type": "code",
   "execution_count": 468,
   "metadata": {},
   "outputs": [],
   "source": [
    "from xml.dom import minidom"
   ]
  },
  {
   "cell_type": "code",
   "execution_count": 12,
   "metadata": {},
   "outputs": [],
   "source": [
    "# Test_file = open('C:/Users/mariia.petryk/Downloads/736422b4-4ec4-4602-9871-ec0b9565eb23.xml','r')\n",
    "# xmldoc = minidom.parse(Test_file)"
   ]
  },
  {
   "cell_type": "code",
   "execution_count": 469,
   "metadata": {},
   "outputs": [],
   "source": [
    "f = open('C:/Users/mariia.petryk/Downloads/558f6811-0010-4cfb-86be-877d7ea9cd88.xml',\"r\")\n",
    "data = f.readlines()"
   ]
  },
  {
   "cell_type": "code",
   "execution_count": 470,
   "metadata": {},
   "outputs": [],
   "source": [
    "bs= BeautifulSoup(str(data))"
   ]
  },
  {
   "cell_type": "code",
   "execution_count": 489,
   "metadata": {},
   "outputs": [],
   "source": [
    "j=0\n",
    "k=0\n",
    "batch_list=list()\n",
    "auth=str(\"\")\n",
    "df=pd.DataFrame(columns=['Author', 'Title','Pub_type', 'Journal', 'Year_publish', 'Doi','Abstract','Keywords','Url_link'])\n",
    "count=len(bs.findAll(\"rec\"))\n",
    "for i in range(0,count):\n",
    "#     print i\n",
    "    jour=bs.findAll(\"jtl\")[i].get_text()\n",
    "    df['Journal'].loc[i] =jour\n",
    "    year=bs.findAll(\"dt\")[i].get_text()\n",
    "    df['Year_publish'].loc[i] =year[:-4].strip()\n",
    "    try:\n",
    "        doi=bs.findAll(\"ui\", type=\"doi\")[i].get_text()\n",
    "        df['Doi'].loc[i] =doi\n",
    "    except:\n",
    "        df['Doi'].loc[i] =''\n",
    "    title=bs.findAll(\"atl\")[i].get_text()\n",
    "    df['Title'].loc[i] =title\n",
    "    auth=bs.findAll(\"aug\")[i].get_text().strip('\\\\n')\n",
    "    df['Author'].loc[i] =auth[4:].encode(\"utf-8\").strip('\\n')\n",
    "#     print auth\n",
    "    try:\n",
    "        subj=bs.findAll(\"su\")[i].get_text().strip('\\\\n')\n",
    "        df['Keywords'].loc[i] =subj.strip('\\\\n')\n",
    "    except:\n",
    "        df['Keywords'].loc[i] =''\n",
    "    absrt=bs.findAll(\"ab\")[i].get_text().strip()\n",
    "    df['Abstract'].loc[i] =absrt.encode(\"utf-8\")\n",
    "    url=bs.findAll(\"url\")[i].get_text()\n",
    "    df['Url_link'].loc[i] =url\n",
    "#     print url"
   ]
  },
  {
   "cell_type": "code",
   "execution_count": 490,
   "metadata": {},
   "outputs": [],
   "source": [
    "# Append columns into one dataframe\n",
    "df = pd.concat([df['Author'],  df['Title'],df['Pub_type'],df['Journal'],df['Year_publish'],df['Doi'],df['Abstract'],df['Keywords'],df['Url_link']], axis=1)"
   ]
  },
  {
   "cell_type": "code",
   "execution_count": 491,
   "metadata": {
    "scrolled": false
   },
   "outputs": [
    {
     "data": {
      "text/html": [
       "<div>\n",
       "<style scoped>\n",
       "    .dataframe tbody tr th:only-of-type {\n",
       "        vertical-align: middle;\n",
       "    }\n",
       "\n",
       "    .dataframe tbody tr th {\n",
       "        vertical-align: top;\n",
       "    }\n",
       "\n",
       "    .dataframe thead th {\n",
       "        text-align: right;\n",
       "    }\n",
       "</style>\n",
       "<table border=\"1\" class=\"dataframe\">\n",
       "  <thead>\n",
       "    <tr style=\"text-align: right;\">\n",
       "      <th></th>\n",
       "      <th>Author</th>\n",
       "      <th>Title</th>\n",
       "      <th>Pub_type</th>\n",
       "      <th>Journal</th>\n",
       "      <th>Year_publish</th>\n",
       "      <th>Doi</th>\n",
       "      <th>Abstract</th>\n",
       "      <th>Keywords</th>\n",
       "      <th>Url_link</th>\n",
       "    </tr>\n",
       "  </thead>\n",
       "  <tbody>\n",
       "    <tr>\n",
       "      <th>0</th>\n",
       "      <td>Geuens, Stijn\\n', '          Coussem...</td>\n",
       "      <td>A Framework for Configuring Collaborative Filt...</td>\n",
       "      <td>NaN</td>\n",
       "      <td>European Journal of Operational Research</td>\n",
       "      <td>2018</td>\n",
       "      <td>http://dx.doi.org/10.1016/j.ejor.2017.07.005</td>\n",
       "      <td>This study proposes a decision support framewo...</td>\n",
       "      <td>Optimization Techniques; Programming Models; D...</td>\n",
       "      <td>http://search.ebscohost.com/login.aspx?direct=...</td>\n",
       "    </tr>\n",
       "    <tr>\n",
       "      <th>1</th>\n",
       "      <td>Yang, Xinan\\n', '          Strauss, ...</td>\n",
       "      <td>An Approximate Dynamic Programming Approach to...</td>\n",
       "      <td>NaN</td>\n",
       "      <td>European Journal of Operational Research</td>\n",
       "      <td>2017</td>\n",
       "      <td>http://dx.doi.org/10.1016/j.ejor.2017.06.034</td>\n",
       "      <td>We propose a new method of controlling demand ...</td>\n",
       "      <td>Retail and Wholesale Trade; e-Commerce</td>\n",
       "      <td>http://search.ebscohost.com/login.aspx?direct=...</td>\n",
       "    </tr>\n",
       "    <tr>\n",
       "      <th>2</th>\n",
       "      <td>Yang, Huixiao\\n', '          Luo, Ji...</td>\n",
       "      <td>Supplier Encroachment under Nonlinear Pricing ...</td>\n",
       "      <td>NaN</td>\n",
       "      <td>European Journal of Operational Research</td>\n",
       "      <td>2018</td>\n",
       "      <td>http://dx.doi.org/10.1016/j.ejor.2017.12.027</td>\n",
       "      <td>We explore the impact of nonlinear pricing (NP...</td>\n",
       "      <td>Optimization Techniques; Programming Models; D...</td>\n",
       "      <td>http://search.ebscohost.com/login.aspx?direct=...</td>\n",
       "    </tr>\n",
       "    <tr>\n",
       "      <th>3</th>\n",
       "      <td>Gharehgozli, Amir\\n', '          Zae...</td>\n",
       "      <td>Stacking Outbound Barge Containers in an Autom...</td>\n",
       "      <td>NaN</td>\n",
       "      <td>European Journal of Operational Research</td>\n",
       "      <td>2018</td>\n",
       "      <td>http://dx.doi.org/10.1016/j.ejor.2017.12.040</td>\n",
       "      <td>In this paper, we study the stacking problem o...</td>\n",
       "      <td>Production; Cost; Capital; Capital, Total Fact...</td>\n",
       "      <td>http://search.ebscohost.com/login.aspx?direct=...</td>\n",
       "    </tr>\n",
       "    <tr>\n",
       "      <th>4</th>\n",
       "      <td>Nicolas, Lenoble\\n', '          Yann...</td>\n",
       "      <td>Order Batching in an Automated Warehouse with ...</td>\n",
       "      <td>NaN</td>\n",
       "      <td>European Journal of Operational Research</td>\n",
       "      <td>2018</td>\n",
       "      <td>http://dx.doi.org/10.1016/j.ejor.2017.12.037</td>\n",
       "      <td>The vertical lift module is an automated stora...</td>\n",
       "      <td>Transactional Relationships; Contracts and Rep...</td>\n",
       "      <td>http://search.ebscohost.com/login.aspx?direct=...</td>\n",
       "    </tr>\n",
       "  </tbody>\n",
       "</table>\n",
       "</div>"
      ],
      "text/plain": [
       "                                              Author  \\\n",
       "0            Geuens, Stijn\\n', '          Coussem...   \n",
       "1            Yang, Xinan\\n', '          Strauss, ...   \n",
       "2            Yang, Huixiao\\n', '          Luo, Ji...   \n",
       "3            Gharehgozli, Amir\\n', '          Zae...   \n",
       "4            Nicolas, Lenoble\\n', '          Yann...   \n",
       "\n",
       "                                               Title Pub_type  \\\n",
       "0  A Framework for Configuring Collaborative Filt...      NaN   \n",
       "1  An Approximate Dynamic Programming Approach to...      NaN   \n",
       "2  Supplier Encroachment under Nonlinear Pricing ...      NaN   \n",
       "3  Stacking Outbound Barge Containers in an Autom...      NaN   \n",
       "4  Order Batching in an Automated Warehouse with ...      NaN   \n",
       "\n",
       "                                    Journal Year_publish  \\\n",
       "0  European Journal of Operational Research         2018   \n",
       "1  European Journal of Operational Research         2017   \n",
       "2  European Journal of Operational Research         2018   \n",
       "3  European Journal of Operational Research         2018   \n",
       "4  European Journal of Operational Research         2018   \n",
       "\n",
       "                                            Doi  \\\n",
       "0  http://dx.doi.org/10.1016/j.ejor.2017.07.005   \n",
       "1  http://dx.doi.org/10.1016/j.ejor.2017.06.034   \n",
       "2  http://dx.doi.org/10.1016/j.ejor.2017.12.027   \n",
       "3  http://dx.doi.org/10.1016/j.ejor.2017.12.040   \n",
       "4  http://dx.doi.org/10.1016/j.ejor.2017.12.037   \n",
       "\n",
       "                                            Abstract  \\\n",
       "0  This study proposes a decision support framewo...   \n",
       "1  We propose a new method of controlling demand ...   \n",
       "2  We explore the impact of nonlinear pricing (NP...   \n",
       "3  In this paper, we study the stacking problem o...   \n",
       "4  The vertical lift module is an automated stora...   \n",
       "\n",
       "                                            Keywords  \\\n",
       "0  Optimization Techniques; Programming Models; D...   \n",
       "1    Retail and Wholesale Trade; e-Commerce            \n",
       "2  Optimization Techniques; Programming Models; D...   \n",
       "3  Production; Cost; Capital; Capital, Total Fact...   \n",
       "4  Transactional Relationships; Contracts and Rep...   \n",
       "\n",
       "                                            Url_link  \n",
       "0  http://search.ebscohost.com/login.aspx?direct=...  \n",
       "1  http://search.ebscohost.com/login.aspx?direct=...  \n",
       "2  http://search.ebscohost.com/login.aspx?direct=...  \n",
       "3  http://search.ebscohost.com/login.aspx?direct=...  \n",
       "4  http://search.ebscohost.com/login.aspx?direct=...  "
      ]
     },
     "execution_count": 491,
     "metadata": {},
     "output_type": "execute_result"
    }
   ],
   "source": [
    "df.head()"
   ]
  },
  {
   "cell_type": "code",
   "execution_count": 492,
   "metadata": {
    "scrolled": true
   },
   "outputs": [],
   "source": [
    "df.to_csv('List_EJOR_ecommerce.csv')"
   ]
  },
  {
   "cell_type": "code",
   "execution_count": null,
   "metadata": {},
   "outputs": [],
   "source": []
  },
  {
   "cell_type": "code",
   "execution_count": null,
   "metadata": {},
   "outputs": [],
   "source": []
  },
  {
   "cell_type": "code",
   "execution_count": null,
   "metadata": {},
   "outputs": [],
   "source": []
  },
  {
   "cell_type": "markdown",
   "metadata": {},
   "source": [
    "## Next: (1) code download pdf - not working yet"
   ]
  },
  {
   "cell_type": "markdown",
   "metadata": {},
   "source": [
    "## Part 2. Download papers pdf\n",
    "## Note: papers may duplicate within different keywords, so filter unique paper links"
   ]
  },
  {
   "cell_type": "code",
   "execution_count": 602,
   "metadata": {},
   "outputs": [],
   "source": [
    "f = pd.read_csv(\"C:\\Users\\mariia.petryk\\List_EJOR_ecommercev03.csv\")\n",
    "# data = f.readlines()"
   ]
  },
  {
   "cell_type": "code",
   "execution_count": 603,
   "metadata": {},
   "outputs": [
    {
     "data": {
      "text/plain": [
       "6"
      ]
     },
     "execution_count": 603,
     "metadata": {},
     "output_type": "execute_result"
    }
   ],
   "source": [
    "len(f)"
   ]
  },
  {
   "cell_type": "code",
   "execution_count": 495,
   "metadata": {},
   "outputs": [],
   "source": [
    "import os\n",
    "from selenium import webdriver\n",
    "from selenium.webdriver.common.keys import Keys\n",
    "from selenium.webdriver.support.ui import WebDriverWait\n",
    "# from selenium.webdriver.firefox.options import Options\n",
    "# from selenium.webdriver.support import expected_conditions\n",
    "# from selenium.webdriver.common.by import By"
   ]
  },
  {
   "cell_type": "code",
   "execution_count": 496,
   "metadata": {
    "collapsed": true
   },
   "outputs": [
    {
     "name": "stdout",
     "output_type": "stream",
     "text": [
      "0\n",
      "Downloading file from link: http://web.b.ebscohost.com/ehost/pdfviewer/pdfviewer?vid=0&sid=baa343a2-03f3-41f5-9934-0ded8e25b5ad@pdc-v-sessmgr01\n",
      "Status: Download Complete.\n",
      "boysen_nils_briskorn_dirk_emde_simon_2017.pdf\n",
      "1\n",
      "Downloading file from link: http://web.b.ebscohost.com/ehost/pdfviewer/pdfviewer?vid=0&sid=4676f22a-e95f-45f8-b510-04fb55415c1e@sessionmgr4006\n",
      "Status: Download Complete.\n",
      "lvarez-miranda_eduardo_luipersbeck_martin_sinnl_markus_2018.pdf\n",
      "2\n",
      "Downloading file from link: http://web.b.ebscohost.com/ehost/pdfviewer/pdfviewer?vid=0&sid=8e52d635-c403-4c2e-8fc1-fccfb8c3454e@sessionmgr4010\n",
      "Status: Download Complete.\n",
      "germs_remco_van foreest_nicky d._kilic_onur a._2016.pdf\n",
      "3\n",
      "Downloading file from link: http://web.b.ebscohost.com/ehost/pdfviewer/pdfviewer?vid=0&sid=af6a4c94-3c2c-4a78-b66b-a7fa661cc7c1@sessionmgr104\n",
      "Status: Download Complete.\n",
      "avinadav_tal_chernonog_tatyana_perlman_yael__2015.pdf\n"
     ]
    }
   ],
   "source": [
    "# via Selenium\n",
    "# not good for Elsevier database (e.g. EJOR didn't fit)\n",
    "# j=5\n",
    "\n",
    "\n",
    "for j in range(0,len(f['Url_link'])):\n",
    "    \n",
    "    print j\n",
    "    options = webdriver.ChromeOptions()\n",
    "    download_folder = \"C:\\\\Users\\\\mariia.petryk\"    \n",
    "\n",
    "    profile = {\"plugins.plugins_list\": [{\"enabled\": False,\n",
    "                                         \"name\": \"Chrome PDF Viewer\"}],\n",
    "               \"download.default_directory\": download_folder,\n",
    "               \"download.extensions_to_open\": \"applications/pdf\"\n",
    "              }\n",
    "\n",
    "    options.add_experimental_option(\"prefs\", profile)\n",
    "    # set driver\n",
    "    driver = webdriver.Chrome('C:\\Users\\mariia.petryk\\Downloads\\chromedriver_win32\\chromedriver.exe', chrome_options=options)  # Optional argument, if not specified will search path.\n",
    "\n",
    "    \n",
    "    link=f['Url_link'].iloc[j]\n",
    "    #put here the adress of your page\n",
    "    driver.get(link)\n",
    "    # sid and vid for pdf link\n",
    "    s=driver.find_elements_by_xpath(\"//*[@id='__sid']\")\n",
    "    sid =s[0].get_attribute(\"value\")\n",
    "    v=driver.find_elements_by_xpath(\"//*[@id='__vid']\")\n",
    "    vid =v[0].get_attribute(\"value\")\n",
    "    #Getting local session of Chrome\n",
    "    url = driver.command_executor._url      \n",
    "    session_id = driver.session_id \n",
    "\n",
    "    ll='http://web.b.ebscohost.com/ehost/pdfviewer/pdfviewer?'+'vid='+vid+'&sid='+sid\n",
    "\n",
    "    print(\"Downloading file from link: {}\".format(ll))\n",
    "    driver.get(ll)\n",
    "\n",
    "    print(\"Status: Download Complete.\")\n",
    "    # print(\"Folder: {}\".format(download_folder))\n",
    "    # sleep(10)\n",
    "\n",
    "\n",
    "    time.sleep(5)\n",
    "    filename2=((' '.join(f['Author'].iloc[j].split()).replace(\", \", \"_\").replace(\",\", \"_\"))+\"_\"+str(f['Year_publish'].iloc[j])+\".pdf\").lower()\n",
    "    print filename2\n",
    "    for filename in os.walk('C:\\\\Users\\\\mariia.petryk'):\n",
    "        for fn in filename[2]:\n",
    "            try:\n",
    "                if fn.startswith(\"ContentServer\"):\n",
    "                    os.rename(fn, filename2)\n",
    "            except:\n",
    "                pass\n",
    "    # time.sleep(5)\n",
    "    wait = WebDriverWait(driver, 5)\n",
    "    driver.close()"
   ]
  },
  {
   "cell_type": "code",
   "execution_count": 320,
   "metadata": {},
   "outputs": [],
   "source": [
    "# link=f['Url_link'].iloc[3]\n",
    "# r = requests.get(link, stream = True, headers=header)"
   ]
  },
  {
   "cell_type": "code",
   "execution_count": 296,
   "metadata": {},
   "outputs": [],
   "source": [
    "# text=r.text\n",
    "# soup = BeautifulSoup(text, \"lxml\")\n",
    "# gg=soup.findAll(\"script\", {\"class\": \"rs_skip\"})"
   ]
  },
  {
   "cell_type": "code",
   "execution_count": 611,
   "metadata": {
    "scrolled": true
   },
   "outputs": [
    {
     "ename": "IndexError",
     "evalue": "single positional indexer is out-of-bounds",
     "output_type": "error",
     "traceback": [
      "\u001b[1;31m---------------------------------------------------------------------------\u001b[0m",
      "\u001b[1;31mIndexError\u001b[0m                                Traceback (most recent call last)",
      "\u001b[1;32m<ipython-input-611-fcf09639b812>\u001b[0m in \u001b[0;36m<module>\u001b[1;34m()\u001b[0m\n\u001b[0;32m      9\u001b[0m \u001b[1;31m#Getting local session of Chrome\u001b[0m\u001b[1;33m\u001b[0m\u001b[1;33m\u001b[0m\u001b[0m\n\u001b[0;32m     10\u001b[0m \u001b[0mdriver\u001b[0m\u001b[1;33m=\u001b[0m\u001b[0mwebdriver\u001b[0m\u001b[1;33m.\u001b[0m\u001b[0mChrome\u001b[0m\u001b[1;33m(\u001b[0m\u001b[1;34m'C:\\Users\\mariia.petryk\\Downloads\\chromedriver_win32\\chromedriver.exe'\u001b[0m\u001b[1;33m)\u001b[0m\u001b[1;33m\u001b[0m\u001b[0m\n\u001b[1;32m---> 11\u001b[1;33m \u001b[0mlink\u001b[0m\u001b[1;33m=\u001b[0m\u001b[0mf\u001b[0m\u001b[1;33m[\u001b[0m\u001b[1;34m'Url_link'\u001b[0m\u001b[1;33m]\u001b[0m\u001b[1;33m.\u001b[0m\u001b[0miloc\u001b[0m\u001b[1;33m[\u001b[0m\u001b[0mj\u001b[0m\u001b[1;33m]\u001b[0m\u001b[1;33m\u001b[0m\u001b[0m\n\u001b[0m\u001b[0;32m     12\u001b[0m \u001b[1;31m#put here the adress of your page\u001b[0m\u001b[1;33m\u001b[0m\u001b[1;33m\u001b[0m\u001b[0m\n\u001b[0;32m     13\u001b[0m \u001b[0mdriver\u001b[0m\u001b[1;33m.\u001b[0m\u001b[0mget\u001b[0m\u001b[1;33m(\u001b[0m\u001b[0mlink\u001b[0m\u001b[1;33m)\u001b[0m\u001b[1;33m\u001b[0m\u001b[0m\n",
      "\u001b[1;32mc:\\python27\\lib\\site-packages\\pandas\\core\\indexing.pyc\u001b[0m in \u001b[0;36m__getitem__\u001b[1;34m(self, key)\u001b[0m\n\u001b[0;32m   1371\u001b[0m \u001b[1;33m\u001b[0m\u001b[0m\n\u001b[0;32m   1372\u001b[0m             \u001b[0mmaybe_callable\u001b[0m \u001b[1;33m=\u001b[0m \u001b[0mcom\u001b[0m\u001b[1;33m.\u001b[0m\u001b[0m_apply_if_callable\u001b[0m\u001b[1;33m(\u001b[0m\u001b[0mkey\u001b[0m\u001b[1;33m,\u001b[0m \u001b[0mself\u001b[0m\u001b[1;33m.\u001b[0m\u001b[0mobj\u001b[0m\u001b[1;33m)\u001b[0m\u001b[1;33m\u001b[0m\u001b[0m\n\u001b[1;32m-> 1373\u001b[1;33m             \u001b[1;32mreturn\u001b[0m \u001b[0mself\u001b[0m\u001b[1;33m.\u001b[0m\u001b[0m_getitem_axis\u001b[0m\u001b[1;33m(\u001b[0m\u001b[0mmaybe_callable\u001b[0m\u001b[1;33m,\u001b[0m \u001b[0maxis\u001b[0m\u001b[1;33m=\u001b[0m\u001b[0maxis\u001b[0m\u001b[1;33m)\u001b[0m\u001b[1;33m\u001b[0m\u001b[0m\n\u001b[0m\u001b[0;32m   1374\u001b[0m \u001b[1;33m\u001b[0m\u001b[0m\n\u001b[0;32m   1375\u001b[0m     \u001b[1;32mdef\u001b[0m \u001b[0m_is_scalar_access\u001b[0m\u001b[1;33m(\u001b[0m\u001b[0mself\u001b[0m\u001b[1;33m,\u001b[0m \u001b[0mkey\u001b[0m\u001b[1;33m)\u001b[0m\u001b[1;33m:\u001b[0m\u001b[1;33m\u001b[0m\u001b[0m\n",
      "\u001b[1;32mc:\\python27\\lib\\site-packages\\pandas\\core\\indexing.pyc\u001b[0m in \u001b[0;36m_getitem_axis\u001b[1;34m(self, key, axis)\u001b[0m\n\u001b[0;32m   1828\u001b[0m \u001b[1;33m\u001b[0m\u001b[0m\n\u001b[0;32m   1829\u001b[0m             \u001b[1;31m# validate the location\u001b[0m\u001b[1;33m\u001b[0m\u001b[1;33m\u001b[0m\u001b[0m\n\u001b[1;32m-> 1830\u001b[1;33m             \u001b[0mself\u001b[0m\u001b[1;33m.\u001b[0m\u001b[0m_is_valid_integer\u001b[0m\u001b[1;33m(\u001b[0m\u001b[0mkey\u001b[0m\u001b[1;33m,\u001b[0m \u001b[0maxis\u001b[0m\u001b[1;33m)\u001b[0m\u001b[1;33m\u001b[0m\u001b[0m\n\u001b[0m\u001b[0;32m   1831\u001b[0m \u001b[1;33m\u001b[0m\u001b[0m\n\u001b[0;32m   1832\u001b[0m             \u001b[1;32mreturn\u001b[0m \u001b[0mself\u001b[0m\u001b[1;33m.\u001b[0m\u001b[0m_get_loc\u001b[0m\u001b[1;33m(\u001b[0m\u001b[0mkey\u001b[0m\u001b[1;33m,\u001b[0m \u001b[0maxis\u001b[0m\u001b[1;33m=\u001b[0m\u001b[0maxis\u001b[0m\u001b[1;33m)\u001b[0m\u001b[1;33m\u001b[0m\u001b[0m\n",
      "\u001b[1;32mc:\\python27\\lib\\site-packages\\pandas\\core\\indexing.pyc\u001b[0m in \u001b[0;36m_is_valid_integer\u001b[1;34m(self, key, axis)\u001b[0m\n\u001b[0;32m   1711\u001b[0m         \u001b[0ml\u001b[0m \u001b[1;33m=\u001b[0m \u001b[0mlen\u001b[0m\u001b[1;33m(\u001b[0m\u001b[0max\u001b[0m\u001b[1;33m)\u001b[0m\u001b[1;33m\u001b[0m\u001b[0m\n\u001b[0;32m   1712\u001b[0m         \u001b[1;32mif\u001b[0m \u001b[0mkey\u001b[0m \u001b[1;33m>=\u001b[0m \u001b[0ml\u001b[0m \u001b[1;32mor\u001b[0m \u001b[0mkey\u001b[0m \u001b[1;33m<\u001b[0m \u001b[1;33m-\u001b[0m\u001b[0ml\u001b[0m\u001b[1;33m:\u001b[0m\u001b[1;33m\u001b[0m\u001b[0m\n\u001b[1;32m-> 1713\u001b[1;33m             \u001b[1;32mraise\u001b[0m \u001b[0mIndexError\u001b[0m\u001b[1;33m(\u001b[0m\u001b[1;34m\"single positional indexer is out-of-bounds\"\u001b[0m\u001b[1;33m)\u001b[0m\u001b[1;33m\u001b[0m\u001b[0m\n\u001b[0m\u001b[0;32m   1714\u001b[0m         \u001b[1;32mreturn\u001b[0m \u001b[0mTrue\u001b[0m\u001b[1;33m\u001b[0m\u001b[0m\n\u001b[0;32m   1715\u001b[0m \u001b[1;33m\u001b[0m\u001b[0m\n",
      "\u001b[1;31mIndexError\u001b[0m: single positional indexer is out-of-bounds"
     ]
    }
   ],
   "source": [
    "# via Selenium\n",
    "import os\n",
    "from selenium import webdriver\n",
    "from selenium.webdriver.common.keys import Keys\n",
    "from selenium.webdriver.firefox.options import Options\n",
    "\n",
    "j=6\n",
    "\n",
    "#Getting local session of Chrome\n",
    "driver=webdriver.Chrome('C:\\Users\\mariia.petryk\\Downloads\\chromedriver_win32\\chromedriver.exe')\n",
    "link=f['Url_link'].iloc[j]\n",
    "#put here the adress of your page\n",
    "driver.get(link)\n",
    "s=driver.find_elements_by_xpath(\"//*[@id='__sid']\")\n",
    "sid =s[0].get_attribute(\"value\")\n",
    "v=driver.find_elements_by_xpath(\"//*[@id='__vid']\")\n",
    "vid =v[0].get_attribute(\"value\")\n",
    "url = driver.command_executor._url      \n",
    "session_id = driver.session_id \n",
    "ll='http://web.b.ebscohost.com/ehost/pdfviewer/pdfviewer?'+'vid='+vid+'&sid='+sid\n",
    "options = webdriver.ChromeOptions()\n",
    "download_folder = \"C:/Users/mariia.petryk\"    \n",
    "profile = {\"plugins.plugins_list\": [{\"enabled\": False,\n",
    "                                     \"name\": \"Chrome PDF Viewer\"}],\n",
    "           \"download.default_directory\": download_folder,\n",
    "           \"download.extensions_to_open\": \"\",\n",
    "           \"download.directory_upgrade\": True\n",
    "          }\n",
    "options.add_experimental_option(\"prefs\", profile)\n",
    "print(\"Downloading file from link: {}\".format(ll))\n",
    "filename=((' '.join(f['Author'].iloc[j].split()).replace(\", \", \"_\").replace(\",\", \"_\"))+\"_\"+str(f['Year_publish'].iloc[j])).lower()\n",
    "print(\"Status: Download Complete.\")\n",
    "print(\"Folder: {}\".format(download_folder))\n",
    "print filename"
   ]
  },
  {
   "cell_type": "markdown",
   "metadata": {},
   "source": [
    "## Part 3. EJOR (Elsevier)\n",
    "## Next: +(1) get list of keywords from Elsevier\n",
    "## (2) download papers from Elsevier for EJOR"
   ]
  },
  {
   "cell_type": "code",
   "execution_count": 534,
   "metadata": {},
   "outputs": [],
   "source": [
    "f = pd.read_csv(\"C:\\Users\\mariia.petryk\\List_EJOR_ecommerce.csv\")\n",
    "# data = f.readlines()"
   ]
  },
  {
   "cell_type": "code",
   "execution_count": 535,
   "metadata": {},
   "outputs": [
    {
     "data": {
      "text/plain": [
       "56"
      ]
     },
     "execution_count": 535,
     "metadata": {},
     "output_type": "execute_result"
    }
   ],
   "source": [
    "len(f)"
   ]
  },
  {
   "cell_type": "code",
   "execution_count": 585,
   "metadata": {},
   "outputs": [],
   "source": [
    "kw=pd.DataFrame(columns=['Keywords'])\n",
    "klist=pd.DataFrame(columns=['Keywords'])"
   ]
  },
  {
   "cell_type": "code",
   "execution_count": 589,
   "metadata": {},
   "outputs": [
    {
     "name": "stdout",
     "output_type": "stream",
     "text": [
      "0\n",
      "E-commerce,OR in marketing,Recommendation systems,Collaborative filtering\n",
      "1\n",
      "E-commerce,Revenue management\n",
      "2\n",
      "E-commerce,Supplier encroachment,Bargaining power,Nonlinear price contracts\n",
      "3\n",
      "OR in Maritime Industry,Outbound barge containers,Stacking operations,Heuristic\n",
      "4\n",
      "Logistics,Automated warehouses,Batching optimization,Vertical lift module,Order picking,AS/RSAutomated Storage and Retrieval Systems,Automated Storage and Retrieval Systems,VLMVertical Lift Module,Vertical Lift Module,AVS/RSAutonomous Vehicle Storage and Retrieval Systems,Autonomous Vehicle Storage and Retrieval Systems,SBS/RSShuttle Based Storage and Retrieval Systems,Shuttle Based Storage and Retrieval Systems,SASimulated Annealing,Simulated Annealing,MFVMean Fitness Value,Mean Fitness Value,EREfficiency Rate,Efficiency Rate,IRImprovement Rate\n",
      "5\n",
      "Supply chain management,Inventory,Behavioral operations\n",
      "6\n",
      "Supply chain management,Perishables,Inventory\n",
      "7\n",
      "Supply chain management,Forecast sharing,Inventory commitments/reallocations,Information asymmetry\n",
      "8\n",
      "Retailing,Traditional retail,Demand estimation,Demand substitution\n",
      "9\n",
      "Supply chain management,Offshoring,Outsourcing,Transfer price\n",
      "10\n",
      "Transportation,Multi-period service territory design,Scheduling of customer visits,Branch-and-price\n",
      "11\n",
      "Location,Alternative-fuel vehicle,Heuristic algorithm\n",
      "12\n",
      "OR in environment and climate change,Retail location,Competition,Carbon penalty\n",
      "13\n",
      "OR in marketing,Cooperative advertising,Differential games\n",
      "14\n",
      "E-commerce,Omni-channel retailing,Order fulfillment,Buy online and pick up in store\n",
      "15\n",
      "Risk management,Pricing,Mean–variance,Demand forecast update\n",
      "16\n",
      "Uncertain consumer taste,Product positioning,Store brands,National brands\n",
      "17\n",
      "Supply chain management,Product returns policy,Resale policy,Retailer-run resale market\n",
      "18\n",
      "Inventory,Rental system,Support warehouse,Partial backordering\n",
      "19\n",
      "Supply chain management,e-books,Agency model,Revenue sharing\n",
      "20\n",
      "Retail distribution,Transportation,Inventory,Instore logistics\n",
      "21\n",
      "Supply chain management,Risk analysis,Uncertainty modelling,Decision analysis\n",
      "22\n",
      "Assemble-to-order system,Safety stocks,Order service level,Allocation rules\n",
      "23\n",
      "Logistics,Order picking,Analytics,Combinatorial optimization\n",
      "24\n",
      "Retailing,Basic products,Inventory strategy,Shelf-space management\n",
      "25\n",
      "Inventory,Demand dependence,Emissions,Product carbon footprint\n",
      "26\n",
      "Traveling salesman,Order batching,Batch sequencing,Picker routing\n",
      "27\n",
      "Integer programming,Inventory management,Order batching,Order picking\n",
      "28\n",
      "Product pricing,Product line selection,Dynamic substitution\n",
      "29\n",
      "Supply chain management,Rebates,Pricing,Cashback website\n",
      "30\n",
      "Inventory,Loss aversion,Newsvendor problem\n",
      "31\n",
      "Supply chain management,Information sharing,Simple moving average,ARIMA\n",
      "32\n",
      "Development-intensive green product (DIGP),Marginal-cost intensive green product (MIGP),Green product development\n",
      "33\n",
      "Strategic inventories,Quality deterioration,Supply chain coordination\n",
      "34\n",
      "Inventory management,Perishable EOQ,Consumer behavior\n",
      "35\n",
      "Store brand,Private label,Extended warranty,Quality coordination\n",
      "36\n",
      "Customer returns policy,Game theory,Pricing,Money-back guarantee\n",
      "37\n",
      "Inventory,Two-echelon,Multi-item,Batch ordering\n",
      "38\n",
      "E-commerce,Group buying,Channel\n",
      "39\n",
      "Display location selection,Shelf space allocation,Joint replenishment\n",
      "40\n",
      "Retail,Service,Uncertainty,Competition\n",
      "41\n",
      "Inventory,Imperfect quality,Deterioration,Perishable items\n",
      "42\n",
      "Logistics,Transportation,Dynamism,Urgency\n",
      "43\n",
      "Supply chain management,Supply chain coordination\n",
      "44\n",
      "Supply chain management,Gray market,Parallel imports,Demand enhancing services\n",
      "45\n",
      "Supply chain,Behavioral operations,Fairness concerns\n",
      "46\n",
      "Supply chain management,Contracting\n",
      "47\n",
      "Retailing,Distribution,Instore logistics\n",
      "48\n",
      "Supply chain management,Rebate,Gray market\n",
      "49\n",
      "OR in energy,Game theory,Risk-aversion,Retail pricing\n",
      "50\n",
      "Supply chain management,Fairness,Competitive supply chain,Wholesale-price contract\n",
      "51\n",
      "Supply chain management,Information sharing,Asymmetric information,Dishonesty\n",
      "52\n",
      "Supply chain management,Information updating,Spot market,Forward contract\n",
      "53\n",
      "Supply chain management,Risk management,Coordination,Mean-variance\n",
      "54\n",
      "On-pack coupons,Pull price promotions,Push price promotions\n",
      "55\n",
      "Supply chain management,Incentive contract,Asymmetric information,Supply chain collaboration\n"
     ]
    }
   ],
   "source": [
    "i=0\n",
    "for i in range(0,len(f)):\n",
    "    print i\n",
    "    driver=webdriver.Chrome('C:\\Users\\mariia.petryk\\Downloads\\chromedriver_win32\\chromedriver.exe')\n",
    "    link=f['Doi'].iloc[i]\n",
    "    #put here the adress of your page\n",
    "    driver.get(link)\n",
    "    time.sleep(2)\n",
    "    htmlSource = driver.page_source\n",
    "    soup = BeautifulSoup(htmlSource, \"lxml\")\n",
    "    gg=soup.findAll(\"div\", {\"class\": \"keyword\"})\n",
    "    for k in range(0,len(gg)):\n",
    "        text=gg[k].get_text()\n",
    "        kw['Keywords'].loc[k]=text\n",
    "    keylist=\",\".join(kw['Keywords'][0:k])\n",
    "    klist['Keywords'].loc[i]=keylist\n",
    "    print keylist\n",
    "    kw=pd.DataFrame(columns=['Keywords'])\n",
    "    sleep(2)\n",
    "    driver.close()"
   ]
  },
  {
   "cell_type": "code",
   "execution_count": 591,
   "metadata": {},
   "outputs": [],
   "source": [
    "df['Keywords'] = klist['Keywords']"
   ]
  },
  {
   "cell_type": "code",
   "execution_count": 599,
   "metadata": {},
   "outputs": [],
   "source": [
    "for i in range(0,len(df['Author'])):\n",
    "    df['Author'].loc[i]=df['Author'].loc[i].encode('ascii','ignore')\n",
    "    df['Author'].loc[i]=df['Author'].loc[i].replace('\\n','')\n",
    "    df['Keywords'].loc[i]=df['Keywords'].loc[i].encode('ascii','ignore')\n",
    "    df['Keywords'].loc[i]=df['Keywords'].loc[i].replace('\\n','')"
   ]
  },
  {
   "cell_type": "code",
   "execution_count": 600,
   "metadata": {},
   "outputs": [
    {
     "data": {
      "text/html": [
       "<div>\n",
       "<style scoped>\n",
       "    .dataframe tbody tr th:only-of-type {\n",
       "        vertical-align: middle;\n",
       "    }\n",
       "\n",
       "    .dataframe tbody tr th {\n",
       "        vertical-align: top;\n",
       "    }\n",
       "\n",
       "    .dataframe thead th {\n",
       "        text-align: right;\n",
       "    }\n",
       "</style>\n",
       "<table border=\"1\" class=\"dataframe\">\n",
       "  <thead>\n",
       "    <tr style=\"text-align: right;\">\n",
       "      <th></th>\n",
       "      <th>Author</th>\n",
       "      <th>Title</th>\n",
       "      <th>Pub_type</th>\n",
       "      <th>Journal</th>\n",
       "      <th>Year_publish</th>\n",
       "      <th>Doi</th>\n",
       "      <th>Abstract</th>\n",
       "      <th>Keywords</th>\n",
       "      <th>Url_link</th>\n",
       "    </tr>\n",
       "  </thead>\n",
       "  <tbody>\n",
       "    <tr>\n",
       "      <th>0</th>\n",
       "      <td>Geuens, Stijn\\n', '          Coussem...</td>\n",
       "      <td>A Framework for Configuring Collaborative Filt...</td>\n",
       "      <td>NaN</td>\n",
       "      <td>European Journal of Operational Research</td>\n",
       "      <td>2018</td>\n",
       "      <td>http://dx.doi.org/10.1016/j.ejor.2017.07.005</td>\n",
       "      <td>This study proposes a decision support framewo...</td>\n",
       "      <td>E-commerce,OR in marketing,Recommendation syst...</td>\n",
       "      <td>http://search.ebscohost.com/login.aspx?direct=...</td>\n",
       "    </tr>\n",
       "    <tr>\n",
       "      <th>1</th>\n",
       "      <td>Yang, Xinan\\n', '          Strauss, ...</td>\n",
       "      <td>An Approximate Dynamic Programming Approach to...</td>\n",
       "      <td>NaN</td>\n",
       "      <td>European Journal of Operational Research</td>\n",
       "      <td>2017</td>\n",
       "      <td>http://dx.doi.org/10.1016/j.ejor.2017.06.034</td>\n",
       "      <td>We propose a new method of controlling demand ...</td>\n",
       "      <td>E-commerce,Revenue management</td>\n",
       "      <td>http://search.ebscohost.com/login.aspx?direct=...</td>\n",
       "    </tr>\n",
       "    <tr>\n",
       "      <th>2</th>\n",
       "      <td>Yang, Huixiao\\n', '          Luo, Ji...</td>\n",
       "      <td>Supplier Encroachment under Nonlinear Pricing ...</td>\n",
       "      <td>NaN</td>\n",
       "      <td>European Journal of Operational Research</td>\n",
       "      <td>2018</td>\n",
       "      <td>http://dx.doi.org/10.1016/j.ejor.2017.12.027</td>\n",
       "      <td>We explore the impact of nonlinear pricing (NP...</td>\n",
       "      <td>E-commerce,Supplier encroachment,Bargaining po...</td>\n",
       "      <td>http://search.ebscohost.com/login.aspx?direct=...</td>\n",
       "    </tr>\n",
       "    <tr>\n",
       "      <th>3</th>\n",
       "      <td>Gharehgozli, Amir\\n', '          Zae...</td>\n",
       "      <td>Stacking Outbound Barge Containers in an Autom...</td>\n",
       "      <td>NaN</td>\n",
       "      <td>European Journal of Operational Research</td>\n",
       "      <td>2018</td>\n",
       "      <td>http://dx.doi.org/10.1016/j.ejor.2017.12.040</td>\n",
       "      <td>In this paper, we study the stacking problem o...</td>\n",
       "      <td>OR in Maritime Industry,Outbound barge contain...</td>\n",
       "      <td>http://search.ebscohost.com/login.aspx?direct=...</td>\n",
       "    </tr>\n",
       "    <tr>\n",
       "      <th>4</th>\n",
       "      <td>Nicolas, Lenoble\\n', '          Yann...</td>\n",
       "      <td>Order Batching in an Automated Warehouse with ...</td>\n",
       "      <td>NaN</td>\n",
       "      <td>European Journal of Operational Research</td>\n",
       "      <td>2018</td>\n",
       "      <td>http://dx.doi.org/10.1016/j.ejor.2017.12.037</td>\n",
       "      <td>The vertical lift module is an automated stora...</td>\n",
       "      <td>Logistics,Automated warehouses,Batching optimi...</td>\n",
       "      <td>http://search.ebscohost.com/login.aspx?direct=...</td>\n",
       "    </tr>\n",
       "  </tbody>\n",
       "</table>\n",
       "</div>"
      ],
      "text/plain": [
       "                                              Author  \\\n",
       "0            Geuens, Stijn\\n', '          Coussem...   \n",
       "1            Yang, Xinan\\n', '          Strauss, ...   \n",
       "2            Yang, Huixiao\\n', '          Luo, Ji...   \n",
       "3            Gharehgozli, Amir\\n', '          Zae...   \n",
       "4            Nicolas, Lenoble\\n', '          Yann...   \n",
       "\n",
       "                                               Title Pub_type  \\\n",
       "0  A Framework for Configuring Collaborative Filt...      NaN   \n",
       "1  An Approximate Dynamic Programming Approach to...      NaN   \n",
       "2  Supplier Encroachment under Nonlinear Pricing ...      NaN   \n",
       "3  Stacking Outbound Barge Containers in an Autom...      NaN   \n",
       "4  Order Batching in an Automated Warehouse with ...      NaN   \n",
       "\n",
       "                                    Journal Year_publish  \\\n",
       "0  European Journal of Operational Research         2018   \n",
       "1  European Journal of Operational Research         2017   \n",
       "2  European Journal of Operational Research         2018   \n",
       "3  European Journal of Operational Research         2018   \n",
       "4  European Journal of Operational Research         2018   \n",
       "\n",
       "                                            Doi  \\\n",
       "0  http://dx.doi.org/10.1016/j.ejor.2017.07.005   \n",
       "1  http://dx.doi.org/10.1016/j.ejor.2017.06.034   \n",
       "2  http://dx.doi.org/10.1016/j.ejor.2017.12.027   \n",
       "3  http://dx.doi.org/10.1016/j.ejor.2017.12.040   \n",
       "4  http://dx.doi.org/10.1016/j.ejor.2017.12.037   \n",
       "\n",
       "                                            Abstract  \\\n",
       "0  This study proposes a decision support framewo...   \n",
       "1  We propose a new method of controlling demand ...   \n",
       "2  We explore the impact of nonlinear pricing (NP...   \n",
       "3  In this paper, we study the stacking problem o...   \n",
       "4  The vertical lift module is an automated stora...   \n",
       "\n",
       "                                            Keywords  \\\n",
       "0  E-commerce,OR in marketing,Recommendation syst...   \n",
       "1                      E-commerce,Revenue management   \n",
       "2  E-commerce,Supplier encroachment,Bargaining po...   \n",
       "3  OR in Maritime Industry,Outbound barge contain...   \n",
       "4  Logistics,Automated warehouses,Batching optimi...   \n",
       "\n",
       "                                            Url_link  \n",
       "0  http://search.ebscohost.com/login.aspx?direct=...  \n",
       "1  http://search.ebscohost.com/login.aspx?direct=...  \n",
       "2  http://search.ebscohost.com/login.aspx?direct=...  \n",
       "3  http://search.ebscohost.com/login.aspx?direct=...  \n",
       "4  http://search.ebscohost.com/login.aspx?direct=...  "
      ]
     },
     "execution_count": 600,
     "metadata": {},
     "output_type": "execute_result"
    }
   ],
   "source": [
    "df.head()"
   ]
  },
  {
   "cell_type": "code",
   "execution_count": 601,
   "metadata": {},
   "outputs": [],
   "source": [
    "df.to_csv('List_EJOR_ecommerce2.csv')"
   ]
  },
  {
   "cell_type": "code",
   "execution_count": 590,
   "metadata": {},
   "outputs": [
    {
     "data": {
      "text/plain": [
       "0     E-commerce,OR in marketing,Recommendation syst...\n",
       "1                         E-commerce,Revenue management\n",
       "2     E-commerce,Supplier encroachment,Bargaining po...\n",
       "3     OR in Maritime Industry,Outbound barge contain...\n",
       "4     Logistics,Automated warehouses,Batching optimi...\n",
       "5     Supply chain management,Inventory,Behavioral o...\n",
       "6         Supply chain management,Perishables,Inventory\n",
       "7     Supply chain management,Forecast sharing,Inven...\n",
       "8     Retailing,Traditional retail,Demand estimation...\n",
       "9     Supply chain management,Offshoring,Outsourcing...\n",
       "10    Transportation,Multi-period service territory ...\n",
       "11    Location,Alternative-fuel vehicle,Heuristic al...\n",
       "12    OR in environment and climate change,Retail lo...\n",
       "13    OR in marketing,Cooperative advertising,Differ...\n",
       "14    E-commerce,Omni-channel retailing,Order fulfil...\n",
       "15    Risk management,Pricing,Mean–variance,Demand f...\n",
       "16    Uncertain consumer taste,Product positioning,S...\n",
       "17    Supply chain management,Product returns policy...\n",
       "18    Inventory,Rental system,Support warehouse,Part...\n",
       "19    Supply chain management,e-books,Agency model,R...\n",
       "20    Retail distribution,Transportation,Inventory,I...\n",
       "21    Supply chain management,Risk analysis,Uncertai...\n",
       "22    Assemble-to-order system,Safety stocks,Order s...\n",
       "23    Logistics,Order picking,Analytics,Combinatoria...\n",
       "24    Retailing,Basic products,Inventory strategy,Sh...\n",
       "25    Inventory,Demand dependence,Emissions,Product ...\n",
       "26    Traveling salesman,Order batching,Batch sequen...\n",
       "27    Integer programming,Inventory management,Order...\n",
       "28    Product pricing,Product line selection,Dynamic...\n",
       "29    Supply chain management,Rebates,Pricing,Cashba...\n",
       "30           Inventory,Loss aversion,Newsvendor problem\n",
       "31    Supply chain management,Information sharing,Si...\n",
       "32    Development-intensive green product (DIGP),Mar...\n",
       "33    Strategic inventories,Quality deterioration,Su...\n",
       "34    Inventory management,Perishable EOQ,Consumer b...\n",
       "35    Store brand,Private label,Extended warranty,Qu...\n",
       "36    Customer returns policy,Game theory,Pricing,Mo...\n",
       "37      Inventory,Two-echelon,Multi-item,Batch ordering\n",
       "38                      E-commerce,Group buying,Channel\n",
       "39    Display location selection,Shelf space allocat...\n",
       "40               Retail,Service,Uncertainty,Competition\n",
       "41    Inventory,Imperfect quality,Deterioration,Peri...\n",
       "42            Logistics,Transportation,Dynamism,Urgency\n",
       "43    Supply chain management,Supply chain coordination\n",
       "44    Supply chain management,Gray market,Parallel i...\n",
       "45    Supply chain,Behavioral operations,Fairness co...\n",
       "46                  Supply chain management,Contracting\n",
       "47             Retailing,Distribution,Instore logistics\n",
       "48           Supply chain management,Rebate,Gray market\n",
       "49    OR in energy,Game theory,Risk-aversion,Retail ...\n",
       "50    Supply chain management,Fairness,Competitive s...\n",
       "51    Supply chain management,Information sharing,As...\n",
       "52    Supply chain management,Information updating,S...\n",
       "53    Supply chain management,Risk management,Coordi...\n",
       "54    On-pack coupons,Pull price promotions,Push pri...\n",
       "55    Supply chain management,Incentive contract,Asy...\n",
       "Name: Keywords, dtype: object"
      ]
     },
     "execution_count": 590,
     "metadata": {},
     "output_type": "execute_result"
    }
   ],
   "source": [
    "klist['Keywords']"
   ]
  },
  {
   "cell_type": "code",
   "execution_count": null,
   "metadata": {},
   "outputs": [],
   "source": []
  },
  {
   "cell_type": "code",
   "execution_count": 78,
   "metadata": {
    "collapsed": true
   },
   "outputs": [
    {
     "name": "stdout",
     "output_type": "stream",
     "text": [
      "0\n",
      "https://pubsonline.informs.org/doi/pdf/10.1287/mnsc.2017.2837\n",
      "<Response [200]>\n",
      "Aseri_Manmohan_Dawande_Milind_Janakiraman_Ganesh_Mookerjee_Vijay_2017.pdf\n",
      "1\n",
      "https://pubsonline.informs.org/doi/pdf/10.1287/isre.2016.0651\n",
      "<Response [200]>\n",
      "Chen_Ying-Ju_Huang_Ke-Wei_2016.pdf\n",
      "2\n",
      "https://pubsonline.informs.org/doi/pdf/10.1287/isre.1120.0453\n",
      "<Response [200]>\n",
      "Ghose_Anindya_Goldfarb_Avi_Han_Sang Pil_2012.pdf\n",
      "3\n",
      "https://pubsonline.informs.org/doi/pdf/10.1287/mnsc.2014.1945\n",
      "<Response [200]>\n",
      "Ghose_Anindya_Han_Sang Pil_2014.pdf\n",
      "4\n",
      "https://pubsonline.informs.org/doi/pdf/10.1287/isre.2015.0615\n",
      "<Response [200]>\n",
      "Hann_Il-Horn_Koh_Byungwan_Niculescu_Marius F._2016.pdf\n",
      "5\n",
      "https://pubsonline.informs.org/doi/pdf/10.1287/mnsc.2014.1928\n",
      "<Response [200]>\n",
      "Ma_Liye_Krishnan_Ramayya_Montgomery_Alan L._2014.pdf\n",
      "6\n",
      "https://pubsonline.informs.org/doi/pdf/10.1287/mnsc.2015.2270\n",
      "<Response [200]>\n",
      "Parker_Chris_Ramdas_Kamalini_Savva_Nicos_2016.pdf\n",
      "7\n",
      "https://pubsonline.informs.org/doi/pdf/10.1287/isre.2016.0664\n",
      "<Response [200]>\n",
      "Qiu_Yixin_Gopal_Anandasivam_Hann_Il-Horn_2017.pdf\n",
      "8\n",
      "https://pubsonline.informs.org/doi/pdf/10.1287/isre.2014.0519\n",
      "<Response [200]>\n",
      "Tan_Chuan-Hoo_Sutanto_Juliana_Phang_Chee Wei_Gasimov_Anar_2014.pdf\n",
      "9\n",
      "https://pubsonline.informs.org/doi/pdf/10.1287/isre.2017.0735\n",
      "<Response [200]>\n",
      "Wang_Quan_Li_Beibei_Singh_Param Vir_2018.pdf\n",
      "10\n",
      "https://pubsonline.informs.org/doi/pdf/10.1287/isre.2014.0540\n",
      "<Response [200]>\n",
      "Xu_Xin_Thong_James Y. L._Venkatesh_Viswanath_2014.pdf\n"
     ]
    }
   ],
   "source": [
    "j=0\n",
    "for j in range(0,len(f['Url_link'])):\n",
    "# for j in range(0,5):\n",
    "    try:\n",
    "#         print(f['Doi_link'].iloc[j])\n",
    "#         print f['Doi_link'].iloc[j].replace(\"/abs/\", \"/pdf/\")\n",
    "        link=\"https://pubsonline.informs.org/doi/pdf/\"+f['Url_link'].iloc[j][16:]\n",
    "        print j\n",
    "        print link\n",
    "        r = requests.get(link, stream = True, headers=header)\n",
    "        print r\n",
    "        rep=[\", \",\",\"]\n",
    "#         \"/Users/mariiapetryk/Documents/UF/Young/Information security_Informs/\"+\n",
    "        filename=str(f['Author'].iloc[j].replace(\", \", \"_\").replace(\",\", \"_\"))+\"_\"+str(f['Year_publish'].iloc[j])+\".pdf\"\n",
    "        print filename\n",
    "        with open(filename,\"wb\") as pdf:\n",
    "            pdf.write(r.content)\n",
    "    except:\n",
    "        pass\n",
    "    sleep(10)"
   ]
  },
  {
   "cell_type": "code",
   "execution_count": null,
   "metadata": {},
   "outputs": [],
   "source": []
  }
 ],
 "metadata": {
  "kernelspec": {
   "display_name": "Python 2",
   "language": "python",
   "name": "python2"
  },
  "language_info": {
   "codemirror_mode": {
    "name": "ipython",
    "version": 2
   },
   "file_extension": ".py",
   "mimetype": "text/x-python",
   "name": "python",
   "nbconvert_exporter": "python",
   "pygments_lexer": "ipython2",
   "version": "2.7.14"
  }
 },
 "nbformat": 4,
 "nbformat_minor": 2
}
