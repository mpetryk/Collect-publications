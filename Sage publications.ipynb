{
 "cells": [
  {
   "cell_type": "markdown",
   "metadata": {},
   "source": [
    "## Part 1. Get metadata"
   ]
  },
  {
   "cell_type": "code",
   "execution_count": 1,
   "metadata": {},
   "outputs": [],
   "source": [
    "import re\n",
    "import sys\n",
    "import pandas as pd\n",
    "import urllib2 \n",
    "from bs4 import BeautifulSoup \n",
    "import json"
   ]
  },
  {
   "cell_type": "code",
   "execution_count": 2,
   "metadata": {},
   "outputs": [],
   "source": [
    "import csv\n",
    "import requests "
   ]
  },
  {
   "cell_type": "code",
   "execution_count": 3,
   "metadata": {},
   "outputs": [],
   "source": [
    "from fake_useragent import UserAgent\n",
    "import requests\n",
    "from time import sleep"
   ]
  },
  {
   "cell_type": "code",
   "execution_count": 4,
   "metadata": {},
   "outputs": [
    {
     "name": "stdout",
     "output_type": "stream",
     "text": [
      "{'User-Agent': 'Mozilla/5.0 (Windows NT 5.1) AppleWebKit/537.36 (KHTML, like Gecko) Chrome/34.0.1866.237 Safari/537.36'}\n"
     ]
    }
   ],
   "source": [
    "ua = UserAgent()\n",
    "# print(ua.chrome)\n",
    "header = {'User-Agent':str(ua.chrome)}\n",
    "print(header)"
   ]
  },
  {
   "cell_type": "code",
   "execution_count": 116,
   "metadata": {},
   "outputs": [],
   "source": [
    "f = open(\"C:\\Users\\mariia.petryk\\Downloads\\sage_counterfeit.ris\",\"r\")\n",
    "data = f.readlines()"
   ]
  },
  {
   "cell_type": "code",
   "execution_count": 117,
   "metadata": {},
   "outputs": [],
   "source": [
    "j=0\n",
    "k=0\n",
    "batch_list=list()\n",
    "auth=str(\"\")\n",
    "df=pd.DataFrame(columns=['Author', 'Title','Pub_type', 'Journal', 'Year_publish', 'Doi_link','Abstract','Keywords'])\n",
    "for i in range(0,len(data)):\n",
    "# for i in range(0,20):\n",
    "#     print i,j\n",
    "    if not data[i].startswith('UR'):\n",
    "#         print data[i].startswith('UR')\n",
    "        if data[i].startswith('T1'):\n",
    "            title=data[i][data[i].find(\"-\")+2:].strip('\\n')\n",
    "#             print title\n",
    "            df['Title'].loc[j] =title\n",
    "        if data[i].startswith('T2'):\n",
    "            jour=data[i][data[i].find(\"-\")+2:].strip('\\n')\n",
    "#             print jour\n",
    "            df['Journal'].loc[j] =jour\n",
    "        if data[i].startswith('PY'):\n",
    "            year=data[i][data[i].find(\"-\")+2:].strip('\\n')\n",
    "#             print year\n",
    "            df['Year_publish'].loc[j] =year\n",
    "        if data[i].startswith('N2'):\n",
    "            abstr=data[i][data[i].find(\"-\")+2:].strip('\\n')\n",
    "            df['Abstract'].loc[j] =abstr\n",
    "        j=j\n",
    "    else:\n",
    "        doi_link=data[i][data[i].find(\"-\")+2:].strip('\\n')\n",
    "        df['Doi_link'].loc[j] =doi_link\n",
    "        n=data.index(data[i])\n",
    "#         print n\n",
    "        batch=data[0+k+1:n+1]\n",
    "#         print batch\n",
    "        for l in range(0,len(batch)):\n",
    "            if batch[l].startswith('AU'):\n",
    "                a=batch[l][batch[l].find(\"-\")+2:].strip('\\n')\n",
    "                if len(auth)==0:\n",
    "                    auth=a\n",
    "                else:\n",
    "                    auth=auth+\",\"+a\n",
    "#         print auth\n",
    "        df['Author'].loc[j] =auth\n",
    "        auth=str(\"\")\n",
    "        k=n\n",
    "        j=j+1    "
   ]
  },
  {
   "cell_type": "code",
   "execution_count": 118,
   "metadata": {},
   "outputs": [],
   "source": [
    "# Append columns into one dataframe\n",
    "df = pd.concat([df['Author'],  df['Title'],df['Pub_type'],df['Journal'],df['Year_publish'],df['Doi_link'],df['Abstract']], axis=1)"
   ]
  },
  {
   "cell_type": "code",
   "execution_count": 119,
   "metadata": {},
   "outputs": [
    {
     "data": {
      "text/html": [
       "<div>\n",
       "<style scoped>\n",
       "    .dataframe tbody tr th:only-of-type {\n",
       "        vertical-align: middle;\n",
       "    }\n",
       "\n",
       "    .dataframe tbody tr th {\n",
       "        vertical-align: top;\n",
       "    }\n",
       "\n",
       "    .dataframe thead th {\n",
       "        text-align: right;\n",
       "    }\n",
       "</style>\n",
       "<table border=\"1\" class=\"dataframe\">\n",
       "  <thead>\n",
       "    <tr style=\"text-align: right;\">\n",
       "      <th></th>\n",
       "      <th>Author</th>\n",
       "      <th>Title</th>\n",
       "      <th>Pub_type</th>\n",
       "      <th>Journal</th>\n",
       "      <th>Year_publish</th>\n",
       "      <th>Doi_link</th>\n",
       "      <th>Abstract</th>\n",
       "    </tr>\n",
       "  </thead>\n",
       "  <tbody>\n",
       "    <tr>\n",
       "      <th>0</th>\n",
       "      <td>Greenberg, Mary Anne</td>\n",
       "      <td>Serialization: Benefits Beyond Regulatory Comp...</td>\n",
       "      <td>NaN</td>\n",
       "      <td>Therapeutic Innovation &amp; Regulatory Science</td>\n",
       "      <td>2014</td>\n",
       "      <td>https://doi.org/10.1177/2168479014553034</td>\n",
       "      <td>As pharmaceutical and biotech markets continue...</td>\n",
       "    </tr>\n",
       "    <tr>\n",
       "      <th>1</th>\n",
       "      <td>Isles, Mike</td>\n",
       "      <td>What's in a Word? Falsified/Counterfeit/Fake M...</td>\n",
       "      <td>NaN</td>\n",
       "      <td>Medicine Access @ Point of Care</td>\n",
       "      <td>2017</td>\n",
       "      <td>https://doi.org/10.5301/maapoc.0000008</td>\n",
       "      <td>There is a rising tide of criminal activity to...</td>\n",
       "    </tr>\n",
       "    <tr>\n",
       "      <th>2</th>\n",
       "      <td>Carter, Alan</td>\n",
       "      <td>Improving the Drug Quality and Safety Net</td>\n",
       "      <td>NaN</td>\n",
       "      <td>Journal of Diabetes Science and Technology</td>\n",
       "      <td>2014</td>\n",
       "      <td>https://doi.org/10.1177/1932296814531100</td>\n",
       "      <td>When large quantities of contaminated, subpote...</td>\n",
       "    </tr>\n",
       "    <tr>\n",
       "      <th>3</th>\n",
       "      <td>Lavorgna, Anita</td>\n",
       "      <td>The online trade in counterfeit pharmaceutical...</td>\n",
       "      <td>NaN</td>\n",
       "      <td>European Journal of Criminology</td>\n",
       "      <td>2014</td>\n",
       "      <td>https://doi.org/10.1177/1477370814554722</td>\n",
       "      <td>There is widespread agreement that the Interne...</td>\n",
       "    </tr>\n",
       "    <tr>\n",
       "      <th>4</th>\n",
       "      <td>Rojek, Chris</td>\n",
       "      <td>Counterfeit Commerce: Relations of Production,...</td>\n",
       "      <td>NaN</td>\n",
       "      <td>Cultural Sociology</td>\n",
       "      <td>2016</td>\n",
       "      <td>https://doi.org/10.1177/1749975516650233</td>\n",
       "      <td>Study of the consumption of counterfeit produc...</td>\n",
       "    </tr>\n",
       "  </tbody>\n",
       "</table>\n",
       "</div>"
      ],
      "text/plain": [
       "                 Author                                              Title  \\\n",
       "0  Greenberg, Mary Anne  Serialization: Benefits Beyond Regulatory Comp...   \n",
       "1           Isles, Mike  What's in a Word? Falsified/Counterfeit/Fake M...   \n",
       "2          Carter, Alan          Improving the Drug Quality and Safety Net   \n",
       "3       Lavorgna, Anita  The online trade in counterfeit pharmaceutical...   \n",
       "4          Rojek, Chris  Counterfeit Commerce: Relations of Production,...   \n",
       "\n",
       "  Pub_type                                      Journal Year_publish  \\\n",
       "0      NaN  Therapeutic Innovation & Regulatory Science         2014   \n",
       "1      NaN              Medicine Access @ Point of Care         2017   \n",
       "2      NaN   Journal of Diabetes Science and Technology         2014   \n",
       "3      NaN              European Journal of Criminology         2014   \n",
       "4      NaN                           Cultural Sociology         2016   \n",
       "\n",
       "                                   Doi_link  \\\n",
       "0  https://doi.org/10.1177/2168479014553034   \n",
       "1    https://doi.org/10.5301/maapoc.0000008   \n",
       "2  https://doi.org/10.1177/1932296814531100   \n",
       "3  https://doi.org/10.1177/1477370814554722   \n",
       "4  https://doi.org/10.1177/1749975516650233   \n",
       "\n",
       "                                            Abstract  \n",
       "0  As pharmaceutical and biotech markets continue...  \n",
       "1  There is a rising tide of criminal activity to...  \n",
       "2  When large quantities of contaminated, subpote...  \n",
       "3  There is widespread agreement that the Interne...  \n",
       "4  Study of the consumption of counterfeit produc...  "
      ]
     },
     "execution_count": 119,
     "metadata": {},
     "output_type": "execute_result"
    }
   ],
   "source": [
    "df.head()"
   ]
  },
  {
   "cell_type": "code",
   "execution_count": 120,
   "metadata": {},
   "outputs": [],
   "source": [
    "# Get keywords for each paper\n",
    "import requests\n",
    "url22=df['Doi_link']\n",
    "kw=pd.DataFrame(columns=['Keywords'])"
   ]
  },
  {
   "cell_type": "code",
   "execution_count": 121,
   "metadata": {
    "scrolled": true
   },
   "outputs": [
    {
     "data": {
      "text/plain": [
       "34"
      ]
     },
     "execution_count": 121,
     "metadata": {},
     "output_type": "execute_result"
    }
   ],
   "source": [
    "len(df)"
   ]
  },
  {
   "cell_type": "code",
   "execution_count": 122,
   "metadata": {},
   "outputs": [
    {
     "name": "stdout",
     "output_type": "stream",
     "text": [
      "0 https://doi.org/10.1177/2168479014553034\n",
      "1 https://doi.org/10.5301/maapoc.0000008\n",
      "2 https://doi.org/10.1177/1932296814531100\n",
      "3 https://doi.org/10.1177/1477370814554722\n",
      "4 https://doi.org/10.1177/1749975516650233\n",
      "5 https://doi.org/10.1177/1932296814539275\n",
      "6 https://doi.org/10.1177/0264550512448452\n",
      "7 https://doi.org/10.1366/11-06462\n",
      "8 https://doi.org/10.1177/1057567714527390\n",
      "9 https://doi.org/10.1177/1741134317728403\n",
      "10 https://doi.org/10.1177/2051570714533474\n",
      "11 https://doi.org/10.1177/0003702816638294\n",
      "12 https://doi.org/10.1255/jnirs.1154\n",
      "13 https://doi.org/10.1177/0954406211428397\n",
      "14 https://doi.org/10.1177/1741134314554127\n",
      "15 https://doi.org/10.1177/1077558716629039\n",
      "16 https://doi.org/10.1177/203228441600700308\n",
      "17 https://doi.org/10.1177/1057567712465755\n",
      "18 https://doi.org/10.1177/1076029611426870\n",
      "19 https://doi.org/10.1177/0004865815626768\n",
      "20 https://doi.org/10.5301/maapoc.0000023\n",
      "21 https://doi.org/10.5301/maapoc.0000013\n",
      "22 https://doi.org/10.1177/1748895814538039\n",
      "23 https://doi.org/10.1177/1748895811428173\n",
      "24 https://doi.org/10.1177/1057567716644766\n",
      "25 https://doi.org/10.1177/0002764217734268\n",
      "26 https://doi.org/10.1177/1470412911430463\n",
      "27 https://doi.org/10.1177/2399202618768676\n",
      "28 https://doi.org/10.1177/0033294116659316\n",
      "29 https://doi.org/10.1177/0022009415577003\n",
      "30 https://doi.org/10.1177/001573251204800105\n",
      "31 https://doi.org/10.1177/1057567712436843\n",
      "32 https://doi.org/10.1177/2168479017701980\n",
      "33 https://doi.org/10.5301/maapoc.0000017\n"
     ]
    }
   ],
   "source": [
    "i=0\n",
    "for i,link in url22.iteritems():  \n",
    "    url = url22[i]\n",
    "    print i,url\n",
    "    try:\n",
    "        f=requests.get(url, stream = True, headers=header)\n",
    "        text=f.text\n",
    "        soup = BeautifulSoup(text, \"lxml\")\n",
    "        gg=soup.findAll(\"div\", {\"class\": \"abstractKeywords\"})\n",
    "        text=gg[0].get_text()\n",
    "        t1=text.encode('ascii','ignore')\n",
    "        tf=t1.replace('\\n','')\n",
    "        kw['Keywords'].loc[i]=tf\n",
    "    except:\n",
    "        kw['Keywords'].loc[i]=''\n",
    "    sleep(5)"
   ]
  },
  {
   "cell_type": "code",
   "execution_count": 123,
   "metadata": {
    "scrolled": true
   },
   "outputs": [],
   "source": [
    "# Append columns into one dataframe\n",
    "df['Keywords'] = kw['Keywords']"
   ]
  },
  {
   "cell_type": "code",
   "execution_count": 124,
   "metadata": {
    "scrolled": true
   },
   "outputs": [
    {
     "data": {
      "text/plain": [
       "34"
      ]
     },
     "execution_count": 124,
     "metadata": {},
     "output_type": "execute_result"
    }
   ],
   "source": [
    "len(df)"
   ]
  },
  {
   "cell_type": "code",
   "execution_count": 125,
   "metadata": {
    "scrolled": true
   },
   "outputs": [
    {
     "data": {
      "text/html": [
       "<div>\n",
       "<style scoped>\n",
       "    .dataframe tbody tr th:only-of-type {\n",
       "        vertical-align: middle;\n",
       "    }\n",
       "\n",
       "    .dataframe tbody tr th {\n",
       "        vertical-align: top;\n",
       "    }\n",
       "\n",
       "    .dataframe thead th {\n",
       "        text-align: right;\n",
       "    }\n",
       "</style>\n",
       "<table border=\"1\" class=\"dataframe\">\n",
       "  <thead>\n",
       "    <tr style=\"text-align: right;\">\n",
       "      <th></th>\n",
       "      <th>Author</th>\n",
       "      <th>Title</th>\n",
       "      <th>Pub_type</th>\n",
       "      <th>Journal</th>\n",
       "      <th>Year_publish</th>\n",
       "      <th>Doi_link</th>\n",
       "      <th>Abstract</th>\n",
       "      <th>Keywords</th>\n",
       "    </tr>\n",
       "  </thead>\n",
       "  <tbody>\n",
       "    <tr>\n",
       "      <th>0</th>\n",
       "      <td>Greenberg, Mary Anne</td>\n",
       "      <td>Serialization: Benefits Beyond Regulatory Comp...</td>\n",
       "      <td>NaN</td>\n",
       "      <td>Therapeutic Innovation &amp; Regulatory Science</td>\n",
       "      <td>2014</td>\n",
       "      <td>https://doi.org/10.1177/2168479014553034</td>\n",
       "      <td>As pharmaceutical and biotech markets continue...</td>\n",
       "      <td>Keywords serialization, compliance, counterfeit</td>\n",
       "    </tr>\n",
       "    <tr>\n",
       "      <th>1</th>\n",
       "      <td>Isles, Mike</td>\n",
       "      <td>What's in a Word? Falsified/Counterfeit/Fake M...</td>\n",
       "      <td>NaN</td>\n",
       "      <td>Medicine Access @ Point of Care</td>\n",
       "      <td>2017</td>\n",
       "      <td>https://doi.org/10.5301/maapoc.0000008</td>\n",
       "      <td>There is a rising tide of criminal activity to...</td>\n",
       "      <td>Keywords Counterfeit, Fake medicine, Falsified</td>\n",
       "    </tr>\n",
       "    <tr>\n",
       "      <th>2</th>\n",
       "      <td>Carter, Alan</td>\n",
       "      <td>Improving the Drug Quality and Safety Net</td>\n",
       "      <td>NaN</td>\n",
       "      <td>Journal of Diabetes Science and Technology</td>\n",
       "      <td>2014</td>\n",
       "      <td>https://doi.org/10.1177/1932296814531100</td>\n",
       "      <td>When large quantities of contaminated, subpote...</td>\n",
       "      <td>Keywords counterfeit, global, legislation, out...</td>\n",
       "    </tr>\n",
       "    <tr>\n",
       "      <th>3</th>\n",
       "      <td>Lavorgna, Anita</td>\n",
       "      <td>The online trade in counterfeit pharmaceutical...</td>\n",
       "      <td>NaN</td>\n",
       "      <td>European Journal of Criminology</td>\n",
       "      <td>2014</td>\n",
       "      <td>https://doi.org/10.1177/1477370814554722</td>\n",
       "      <td>There is widespread agreement that the Interne...</td>\n",
       "      <td>Keywords Counterfeit, criminal opportunity, do...</td>\n",
       "    </tr>\n",
       "    <tr>\n",
       "      <th>4</th>\n",
       "      <td>Rojek, Chris</td>\n",
       "      <td>Counterfeit Commerce: Relations of Production,...</td>\n",
       "      <td>NaN</td>\n",
       "      <td>Cultural Sociology</td>\n",
       "      <td>2016</td>\n",
       "      <td>https://doi.org/10.1177/1749975516650233</td>\n",
       "      <td>Study of the consumption of counterfeit produc...</td>\n",
       "      <td>Keywords counterfeit, commerce, counterfeit co...</td>\n",
       "    </tr>\n",
       "  </tbody>\n",
       "</table>\n",
       "</div>"
      ],
      "text/plain": [
       "                 Author                                              Title  \\\n",
       "0  Greenberg, Mary Anne  Serialization: Benefits Beyond Regulatory Comp...   \n",
       "1           Isles, Mike  What's in a Word? Falsified/Counterfeit/Fake M...   \n",
       "2          Carter, Alan          Improving the Drug Quality and Safety Net   \n",
       "3       Lavorgna, Anita  The online trade in counterfeit pharmaceutical...   \n",
       "4          Rojek, Chris  Counterfeit Commerce: Relations of Production,...   \n",
       "\n",
       "  Pub_type                                      Journal Year_publish  \\\n",
       "0      NaN  Therapeutic Innovation & Regulatory Science         2014   \n",
       "1      NaN              Medicine Access @ Point of Care         2017   \n",
       "2      NaN   Journal of Diabetes Science and Technology         2014   \n",
       "3      NaN              European Journal of Criminology         2014   \n",
       "4      NaN                           Cultural Sociology         2016   \n",
       "\n",
       "                                   Doi_link  \\\n",
       "0  https://doi.org/10.1177/2168479014553034   \n",
       "1    https://doi.org/10.5301/maapoc.0000008   \n",
       "2  https://doi.org/10.1177/1932296814531100   \n",
       "3  https://doi.org/10.1177/1477370814554722   \n",
       "4  https://doi.org/10.1177/1749975516650233   \n",
       "\n",
       "                                            Abstract  \\\n",
       "0  As pharmaceutical and biotech markets continue...   \n",
       "1  There is a rising tide of criminal activity to...   \n",
       "2  When large quantities of contaminated, subpote...   \n",
       "3  There is widespread agreement that the Interne...   \n",
       "4  Study of the consumption of counterfeit produc...   \n",
       "\n",
       "                                            Keywords  \n",
       "0    Keywords serialization, compliance, counterfeit  \n",
       "1     Keywords Counterfeit, Fake medicine, Falsified  \n",
       "2  Keywords counterfeit, global, legislation, out...  \n",
       "3  Keywords Counterfeit, criminal opportunity, do...  \n",
       "4  Keywords counterfeit, commerce, counterfeit co...  "
      ]
     },
     "execution_count": 125,
     "metadata": {},
     "output_type": "execute_result"
    }
   ],
   "source": [
    "df.head()"
   ]
  },
  {
   "cell_type": "code",
   "execution_count": 126,
   "metadata": {},
   "outputs": [],
   "source": [
    "# download file w info about papers\n",
    "df.to_csv('List_SAGE_pub_counterfeit.csv')\n",
    "# ff2.to_csv('List_INFORMS_pub_online commerce retailing_v04.csv')"
   ]
  },
  {
   "cell_type": "markdown",
   "metadata": {},
   "source": [
    "## Part 2. Download papers pdf\n",
    "## Note: papers may duplicate within different keywords, so filter unique paper links"
   ]
  },
  {
   "cell_type": "code",
   "execution_count": 127,
   "metadata": {},
   "outputs": [],
   "source": [
    "f = pd.read_csv(\"C:\\Users\\mariia.petryk/List_SAGE_pub_counterfeit.csv\")\n",
    "# data = f.readlines()"
   ]
  },
  {
   "cell_type": "code",
   "execution_count": 128,
   "metadata": {},
   "outputs": [
    {
     "data": {
      "text/plain": [
       "17"
      ]
     },
     "execution_count": 128,
     "metadata": {},
     "output_type": "execute_result"
    }
   ],
   "source": [
    "len(f)"
   ]
  },
  {
   "cell_type": "code",
   "execution_count": 129,
   "metadata": {
    "scrolled": false
   },
   "outputs": [
    {
     "name": "stdout",
     "output_type": "stream",
     "text": [
      "0\n",
      "http://journals.sagepub.com/doi/pdf/10.1177/1477370814554722\n",
      "<Response [200]>\n",
      "Lavorgna_Anita_2014.pdf\n",
      "1\n",
      "http://journals.sagepub.com/doi/pdf/10.1177/1749975516650233\n",
      "<Response [200]>\n",
      "Rojek_Chris_2016.pdf\n",
      "2\n",
      "http://journals.sagepub.com/doi/pdf/10.1177/1057567714527390\n",
      "<Response [200]>\n",
      "Wilson_Jeremy M._Fenoff_Roy_2014.pdf\n",
      "3\n",
      "http://journals.sagepub.com/doi/pdf/10.1177/2051570714533474\n",
      "<Response [200]>\n",
      "Viot_Catherine_Le Roux_André_Krémer_Florence_2014.pdf\n",
      "4\n",
      "http://journals.sagepub.com/doi/pdf/10.1177/1077558716629039\n",
      "<Response [200]>\n",
      "Zullo_Andrew R._Howe_Chanelle J._Galárraga_Omar_2016.pdf\n",
      "5\n",
      "http://journals.sagepub.com/doi/pdf/10.1177/203228441600700308\n",
      "<Response [200]>\n",
      "Negri_Stefania_2016.pdf\n",
      "6\n",
      "http://journals.sagepub.com/doi/pdf/10.1177/1057567712465755\n",
      "<Response [200]>\n",
      "Heinonen_Justin A._Holt_Thomas J._Wilson_Jeremy M._2012.pdf\n",
      "7\n",
      "http://journals.sagepub.com/doi/pdf/10.1177/0004865815626768\n",
      "<Response [200]>\n",
      "Bandiera_Rhiannon_Marmo_Marinella_2016.pdf\n",
      "8\n",
      "http://journals.sagepub.com/doi/pdf/10.5301/maapoc.0000013\n",
      "<Response [200]>\n",
      "Dégardin_Klara_Roggo_Yves_2017.pdf\n",
      "9\n",
      "http://journals.sagepub.com/doi/pdf/10.1177/1057567716644766\n",
      "<Response [200]>\n",
      "Wilson_Jeremy M._Sullivan_Brandon A._Hollis_Meghan E._2016.pdf\n",
      "10\n",
      "http://journals.sagepub.com/doi/pdf/10.1177/0002764217734268\n",
      "<Response [200]>\n",
      "Sullivan_Brandon A._Wilson_Jeremy M._Militz_Ross S._2017.pdf\n",
      "11\n",
      "http://journals.sagepub.com/doi/pdf/10.1177/1470412911430463\n",
      "<Response [200]>\n",
      "Wong_Winnie Won Yin_2012.pdf\n",
      "12\n",
      "http://journals.sagepub.com/doi/pdf/10.1177/0033294116659316\n",
      "<Response [200]>\n",
      "Jiang_Ling_Shan_Juan_2016.pdf\n",
      "13\n",
      "http://journals.sagepub.com/doi/pdf/10.1177/0022009415577003\n",
      "<Response [200]>\n",
      "Petruccelli_David_2015.pdf\n",
      "14\n",
      "http://journals.sagepub.com/doi/pdf/10.1177/001573251204800105\n",
      "<Response [200]>\n",
      "Lo_Chang-fa_2013.pdf\n",
      "15\n",
      "http://journals.sagepub.com/doi/pdf/10.1177/2168479017701980\n",
      "<Response [200]>\n",
      "Garbe_Joerg H. O._Jacobs_Maria G._Rönninger_Stephan K._2017.pdf\n",
      "16\n",
      "http://journals.sagepub.com/doi/pdf/10.5301/maapoc.0000017\n",
      "<Response [200]>\n",
      "Gwatidzo_Shingai D._Murambinda_Petronella K._Makoni_Zivanai_2017.pdf\n"
     ]
    }
   ],
   "source": [
    "j=0\n",
    "for j in range(0,len(f['Doi_link'])):\n",
    "# for j in range(0,5):\n",
    "    try:\n",
    "#         print(f['Doi_link'].iloc[j])\n",
    "#         print f['Doi_link'].iloc[j].replace(\"/abs/\", \"/pdf/\")\n",
    "        link=\"http://journals.sagepub.com/doi/pdf/\"+f['Doi_link'].iloc[j][16:]\n",
    "        print j\n",
    "        print link\n",
    "        r = requests.get(link, stream = True, headers=header)\n",
    "        print r\n",
    "        rep=[\", \",\",\"]\n",
    "#         \"/Users/mariiapetryk/Documents/UF/Young/Information security_Informs/\"+\n",
    "        filename=str(f['Author'].iloc[j].replace(\", \", \"_\").replace(\",\", \"_\"))+\"_\"+str(f['Year_publish'].iloc[j])+\".pdf\"\n",
    "        print filename\n",
    "        with open(filename,\"wb\") as pdf:\n",
    "            pdf.write(r.content)\n",
    "    except:\n",
    "        pass\n",
    "    sleep(10)"
   ]
  }
 ],
 "metadata": {
  "kernelspec": {
   "display_name": "Python 2",
   "language": "python",
   "name": "python2"
  },
  "language_info": {
   "codemirror_mode": {
    "name": "ipython",
    "version": 2
   },
   "file_extension": ".py",
   "mimetype": "text/x-python",
   "name": "python",
   "nbconvert_exporter": "python",
   "pygments_lexer": "ipython2",
   "version": "2.7.14"
  }
 },
 "nbformat": 4,
 "nbformat_minor": 2
}
